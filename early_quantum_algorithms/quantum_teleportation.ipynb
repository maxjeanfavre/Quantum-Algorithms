{
 "cells": [
  {
   "cell_type": "markdown",
   "id": "813bd9b8",
   "metadata": {},
   "source": [
    "## Quantum Teleportation Circuit\n",
    "\n",
    "Quantum teleportation is a protocol that uses entanglement and classical communication to transfer the state of a qubit from one location (Alice) to another (Bob) without physically moving the qubit.\n",
    "\n",
    "**Objective:**  \n",
    "Teleport the state  \n",
    "\\begin{equation*}\n",
    "    \\ket{\\psi} = \\alpha\\ket{0} + \\beta\\ket{1}\n",
    "\\end{equation*}\n",
    "from Alice's qubit to Bob's qubit.\n",
    "\n",
    "This implementation of the quantum teleportation protocol is inspired by the Qiskit tutorial ([Entanglement in action](https://learning.quantum.ibm.com/course/basics-of-quantum-information/entanglement-in-action#qiskit-implementation)).\n",
    "\n"
   ]
  },
  {
   "cell_type": "markdown",
   "id": "28715bb9",
   "metadata": {},
   "source": [
    "## Step-by-Step Breakdown\n",
    "\n",
    "1. **State Preparation:**  \n",
    "   Alice prepares her qubit in the unknown state $\\ket{\\psi}$.  \n",
    "\n",
    "2. **Entanglement Creation:**  \n",
    "   A Bell pair is generated between Alice’s ancilla qubit and Bob’s qubit.  \n",
    "\n",
    "3. **Bell Measurement:**  \n",
    "   Alice measures her data qubit and ancilla qubit in the Bell basis to entangle them.  \n",
    "\n",
    "4. **Classical Communication:**  \n",
    "   Alice sends the measurement results (2 bits) to Bob via a classical channel.  \n",
    "\n",
    "5. **Conditional Correction:**  \n",
    "   Depending on the received bits, Bob applies the necessary Pauli gates ($X$ and/or $Z$) to recover the original state on his qubit.\n"
   ]
  },
  {
   "cell_type": "code",
   "execution_count": 1,
   "id": "d7df4ad0",
   "metadata": {},
   "outputs": [],
   "source": [
    "# Qiskit core and simulator imports\n",
    "from qiskit import QuantumCircuit, QuantumRegister, ClassicalRegister\n",
    "from qiskit_aer import AerSimulator\n",
    "from qiskit.visualization import plot_histogram\n",
    "from qiskit.circuit.library import UGate\n",
    "from qiskit.result import marginal_distribution\n",
    "from numpy import pi, random"
   ]
  },
  {
   "cell_type": "code",
   "execution_count": 2,
   "id": "2d50c3e4",
   "metadata": {},
   "outputs": [],
   "source": [
    "def initialize_register():\n",
    "    \"\"\"\n",
    "    Create and name all quantum and classical registers:\n",
    "      - alice_qubit: holds the state |ψ⟩ to be teleported\n",
    "      - alice_ebit : Alice’s half of the Bell pair\n",
    "      - bob_ebit   : Bob’s half of the Bell pair\n",
    "      - a, b       : classical bits for Alice’s measurement outcomes\n",
    "    \"\"\"\n",
    "    alice_qubit = QuantumRegister(1, \"Q\")   # Data qubit to teleport\n",
    "    alice_ebit  = QuantumRegister(1, \"A\")   # Alice’s EPR qubit\n",
    "    bob_ebit    = QuantumRegister(1, \"B\")   # Bob’s EPR qubit\n",
    "    a = ClassicalRegister(1, \"a\")           # Bit for measuring alice_ebit\n",
    "    b = ClassicalRegister(1, \"b\")           # Bit for measuring alice_qubit\n",
    "    return alice_qubit, alice_ebit, bob_ebit, a, b"
   ]
  },
  {
   "cell_type": "code",
   "execution_count": 3,
   "id": "9ca73a2c-3a00-4860-8147-efa3897bc39d",
   "metadata": {},
   "outputs": [],
   "source": [
    "def create_entangled_pair(qc, alice_ebit, bob_ebit):\n",
    "    \"\"\"Create a Bell pair between Alice and Bob.\"\"\"\n",
    "    qc.h(alice_ebit)            # Hadamard: |0⟩ → (|0⟩+|1⟩)/√2\n",
    "    qc.cx(alice_ebit, bob_ebit) # CNOT: entangles alice_ebit with bob_ebit\n",
    "    qc.barrier()                # Visual separator in the circuit diagram\n",
    "\n",
    "def alice_operations(qc, alice_qubit, alice_ebit):\n",
    "    \"\"\"Entangle Alice’s data qubit with her half of the Bell pair.\"\"\"\n",
    "    qc.cx(alice_qubit, alice_ebit)  # CNOT: data qubit → alice_ebit\n",
    "    qc.h(alice_qubit)               # Hadamard: prepare for Bell-basis measurement\n",
    "    qc.barrier()                    # Separator\n",
    "\n",
    "def alice_measurement(qc, alice_qubit, alice_ebit, a, b):\n",
    "    \"\"\"Measure Alice’s qubits and store results in classical bits.\"\"\"\n",
    "    qc.measure(alice_ebit, a)   # Measure entangled qubit into bit a\n",
    "    qc.measure(alice_qubit, b)  # Measure data qubit into bit b\n",
    "    qc.barrier()                # Separator\n",
    "\n",
    "def bob_correction(qc, bob_ebit, a, b):\n",
    "    \"\"\"Apply conditional corrections on Bob’s qubit based on Alice’s bits.\"\"\"\n",
    "    # If Alice’s first bit a == 1, apply X to Bob\n",
    "    with qc.if_test((a, 1)):\n",
    "        qc.x(bob_ebit)\n",
    "    # If Alice’s second bit b == 1, apply Z to Bob\n",
    "    with qc.if_test((b, 1)):\n",
    "        qc.z(bob_ebit)\n"
   ]
  },
  {
   "cell_type": "code",
   "execution_count": 4,
   "id": "69c4643c",
   "metadata": {},
   "outputs": [],
   "source": [
    "def apply_random_gate(qc, qubit):\n",
    "    # Sample three Euler angles uniformly from [0, 2π)\n",
    "    theta = random.random() * 2 * pi\n",
    "    phi   = random.random() * 2 * pi\n",
    "    lamb  = random.random() * 2 * pi\n",
    "\n",
    "    # Create the U(θ, φ, λ) gate with a label for clarity in the diagram\n",
    "    random_gate = UGate(theta, phi, lamb)\n",
    "\n",
    "    # Append the random unitary to the specified qubit\n",
    "    qc.append(random_gate, [qubit])\n",
    "\n",
    "    qc.barrier()\n",
    "\n",
    "    return random_gate\n",
    "\n",
    "\n",
    "def final_verification(qc, random_gate, bob_ebit):\n",
    "    # Create a new classical register to store the measurement result\n",
    "    result = ClassicalRegister(1, \"Result\")\n",
    "    qc.add_register(result)\n",
    "\n",
    "    # Apply the inverse of the random unitary to Bob’s qubit\n",
    "    qc.append(random_gate.inverse(), [bob_ebit])\n",
    "\n",
    "    # Measure Bob’s qubit into the ‘Result’ bit\n",
    "    qc.measure(bob_ebit, result)\n",
    "\n",
    "    return qc\n"
   ]
  },
  {
   "cell_type": "markdown",
   "id": "be9b5cbf",
   "metadata": {},
   "source": [
    "## Protocol Assembly\n",
    "\n",
    "Now we combine all the steps into a single quantum circuit.  \n",
    "This circuit follows the protocol from state preparation to final correction.  \n",
    "\n",
    "1. **Prepare the initial state** $\\ket{\\psi}= U\\ket{0}$.  \n",
    "2. **Create entanglement** between Alice's second qubit and Bob's qubit.  \n",
    "3. **Perform the Bell measurement** on Alice’s qubits.  \n",
    "4. **Apply corrections** based on the classical bits sent from Alice to Bob.\n",
    "5. **Unprepare Bob's final state** using the inverse of the preparation gate $U^{-1}$"
   ]
  },
  {
   "cell_type": "code",
   "execution_count": 5,
   "id": "3e9f65f4",
   "metadata": {},
   "outputs": [
    {
     "data": {
      "image/png": "[encoded data removed]",
      "text/plain": [
       "<Figure size 1929.98x535.111 with 1 Axes>"
      ]
     },
     "metadata": {},
     "output_type": "display_data"
    }
   ],
   "source": [
    "def assemble_full_protocol(alice_qubit, alice_ebit, bob_ebit, a, b):\n",
    "    # Step 1: Initialize the protocol\n",
    "    qc = QuantumCircuit(alice_qubit, alice_ebit, bob_ebit, a, b)\n",
    "\n",
    "    # Step 2: Apply the random gate to Alice's qubit\n",
    "    random_gate = apply_random_gate(qc, alice_qubit)\n",
    "\n",
    "    # Step 3: Create the teleportation circuit\n",
    "    create_entangled_pair(qc, alice_ebit, bob_ebit)\n",
    "    alice_operations(qc, alice_qubit, alice_ebit)\n",
    "    alice_measurement(qc, alice_qubit, alice_ebit, a, b)\n",
    "    bob_correction(qc, bob_ebit, a, b)\n",
    "    qc.barrier()\n",
    "\n",
    "    # Step 4: Apply the inverse of the random gate and measure Bob's qubit\n",
    "    qc = final_verification(qc, random_gate, bob_ebit)\n",
    "\n",
    "    return qc\n",
    "\n",
    "# Generate the registers\n",
    "alice_qubit, alice_ebit, bob_ebit, a, b = initialize_register()\n",
    "\n",
    "# Create the full teleportation circuit\n",
    "qc_teleportation = assemble_full_protocol(alice_qubit, alice_ebit, bob_ebit, a, b)\n",
    "\n",
    "# Visualize the complete circuit\n",
    "display(qc_teleportation.draw(output=\"mpl\"))"
   ]
  },
  {
   "cell_type": "markdown",
   "id": "e5e3a18a",
   "metadata": {},
   "source": [
    "## Simulation and Measurement\n",
    "\n",
    "To verify the teleportation, we simulate the circuit multiple times.  \n",
    "The goal is to check whether the state on Bob’s qubit matches the original state prepared by Alice.  \n",
    "\n",
    "**Expected Result:**  \n",
    "After applying the inverse of the initial random unitary, Bob’s qubit should always collapse to $\\ket{0}$, confirming successful teleportation.\n"
   ]
  },
  {
   "cell_type": "code",
   "execution_count": 6,
   "id": "3a8c7b1f-5edb-41a0-9bfb-2f0b071a89e4",
   "metadata": {},
   "outputs": [
    {
     "name": "stdout",
     "output_type": "stream",
     "text": [
      "{'0': 1024}\n"
     ]
    }
   ],
   "source": [
    "# Execute the teleportation circuit on the Aer simulator\n",
    "result = AerSimulator().run(qc_teleportation).result()\n",
    "statistics = result.get_counts()\n",
    "\n",
    "# Extract the marginal distribution for the verification bit. This focuses only on Bob’s final measurement outcome\n",
    "filtered_statistics = marginal_distribution(statistics, [2])\n",
    "\n",
    "# Print the filtered distribution to verify that Bob’s qubit collapsed correctly\n",
    "print(filtered_statistics)\n"
   ]
  },
  {
   "cell_type": "markdown",
   "id": "f86e7b40",
   "metadata": {},
   "source": [
    "## Verification of Results\n",
    "\n",
    "To ensure the accuracy of teleportation, we check the measurement outcomes.  \n",
    "If the protocol is correctly implemented, the result will consistently be $\\ket{0}$ after reversing the initial random transformation.  \n",
    "\n",
    "This confirms that Bob has successfully received the original qubit state from Alice.\n"
   ]
  }
 ],
 "metadata": {
  "kernelspec": {
   "display_name": "qiskit",
   "language": "python",
   "name": "python3"
  },
  "language_info": {
   "codemirror_mode": {
    "name": "ipython",
    "version": 3
   },
   "file_extension": ".py",
   "mimetype": "text/x-python",
   "name": "python",
   "nbconvert_exporter": "python",
   "pygments_lexer": "ipython3",
   "version": "3.10.16"
  }
 },
 "nbformat": 4,
 "nbformat_minor": 5
}
