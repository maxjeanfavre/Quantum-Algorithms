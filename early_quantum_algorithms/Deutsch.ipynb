{
 "cells": [
  {
   "cell_type": "markdown",
   "id": "f9b2b212",
   "metadata": {},
   "source": [
    "# Deutsch Algorithm\n",
    "\n",
    "> Note: This notebook is strongly inspired by the [Qiskit tutorial on the Deutsch algorithm](https://learning.quantum.ibm.com/course/fundamentals-of-quantum-algorithms/quantum-query-algorithms#deutschs-algorithm).*\n",
    "\n",
    "The Deutsch algorithm is the first quantum algorithm to demonstrate a clear quantum advantage.  \n",
    "It determines whether a given one-bit Boolean function $f:\\{0,1\\} \\to \\{0,1\\}$ is **constant** (returns the same value for both inputs) or **balanced** (returns different values for inputs 0 and 1), using only a single function evaluation.\n",
    "\n",
    "This notebook implements the Deutsch algorithm and shows how quantum computation can outperform classical approaches for this simple problem.\n"
   ]
  },
  {
   "cell_type": "markdown",
   "id": "db6a4a6f",
   "metadata": {},
   "source": [
    "## Define the Oracle\n",
    "\n",
    "The oracle is a quantum circuit that encodes a classical function $f(x)$ such that:\n",
    "\\begin{equation*}\n",
    "U_f \\ket{x}\\ket{y} = \\ket{x}\\ket{y \\oplus f(x)}\n",
    "\\end{equation*}\n",
    "\n",
    "For this demonstration, we will define oracles for both constant and balanced functions.\n"
   ]
  },
  {
   "cell_type": "code",
   "execution_count": 1,
   "id": "186322a5",
   "metadata": {},
   "outputs": [],
   "source": [
    "from qiskit import QuantumCircuit, transpile\n",
    "from qiskit_aer import AerSimulator\n",
    "from qiskit.visualization import plot_histogram"
   ]
  },
  {
   "cell_type": "code",
   "execution_count": 2,
   "id": "7810361a",
   "metadata": {},
   "outputs": [],
   "source": [
    "def constant_oracle():\n",
    "    \"\"\"Oracle for a constant function: f(0)=f(1)=0.\"\"\"\n",
    "    qc = QuantumCircuit(2)\n",
    "    # No gate needed since f(x) = 0 for all x\n",
    "    return qc\n",
    "\n",
    "def balanced_oracle():\n",
    "    \"\"\"Oracle for a balanced function: f(0)=0, f(1)=1.\"\"\"\n",
    "    qc = QuantumCircuit(2)\n",
    "    qc.cx(0, 1)  # XOR between input and output qubit\n",
    "    return qc"
   ]
  },
  {
   "cell_type": "markdown",
   "id": "0e32be98",
   "metadata": {},
   "source": [
    "## Deutsch Algorithm Circuit\n",
    "\n",
    "Construct the quantum circuit for the Deutsch algorithm:\n",
    "1. Initialize two qubits: input $\\ket{0}$, output $\\ket{1}$\n",
    "2. Apply Hadamard gates to both qubits\n",
    "3. Apply the function oracle\n",
    "4. Apply a Hadamard gate to the input qubit\n",
    "5. Measure the input qubit\n"
   ]
  },
  {
   "cell_type": "code",
   "execution_count": 3,
   "id": "0ac7ec75",
   "metadata": {},
   "outputs": [],
   "source": [
    "def compile_circuit(oracle: QuantumCircuit):\n",
    "    \"\"\"\n",
    "    Assembles the Deutsch algorithm quantum circuit with the provided oracle.\n",
    "    \"\"\"\n",
    "    qc = QuantumCircuit(2, 1)  # 2 qubits, 1 classical bit\n",
    "\n",
    "    # Step 1: Initialize the output qubit to |1⟩\n",
    "    qc.x(1)\n",
    "    qc.barrier()\n",
    "\n",
    "    # Step 2: Apply Hadamard to both qubits\n",
    "    qc.h([0, 1])\n",
    "    qc.barrier()\n",
    "\n",
    "    # Step 3: Append the oracle Uf\n",
    "    qc.append(oracle, [0, 1])\n",
    "    qc.barrier()\n",
    "\n",
    "    # Step 4: Apply Hadamard to the input qubit\n",
    "    qc.h(0)\n",
    "\n",
    "    # Step 5: Measure the input qubit\n",
    "    qc.measure(0, 0)\n",
    "\n",
    "    return qc\n"
   ]
  },
  {
   "cell_type": "markdown",
   "id": "7f54ad4e",
   "metadata": {},
   "source": [
    "## Run the Deutsch Algorithm\n",
    "\n",
    "The measurement outcome determines the nature of the function:\n",
    "- If the result is `0`, the function is **constant**.\n",
    "- If the result is `1`, the function is **balanced**.\n",
    "\n",
    "Let's test both types of oracles.\n"
   ]
  },
  {
   "cell_type": "code",
   "execution_count": 4,
   "id": "2d90967a",
   "metadata": {},
   "outputs": [
    {
     "data": {
      "image/png": "[encoded data removed]",
      "text/plain": [
       "<Figure size 872.572x284.278 with 1 Axes>"
      ]
     },
     "metadata": {},
     "output_type": "display_data"
    },
    {
     "name": "stdout",
     "output_type": "stream",
     "text": [
      "Constant oracle result: constant\n"
     ]
    },
    {
     "data": {
      "image/png": "[encoded data removed]",
      "text/plain": [
       "<Figure size 872.572x284.278 with 1 Axes>"
      ]
     },
     "metadata": {},
     "output_type": "display_data"
    },
    {
     "name": "stdout",
     "output_type": "stream",
     "text": [
      "Balanced oracle result: balanced\n"
     ]
    }
   ],
   "source": [
    "def deutsch_algorithm(oracle: QuantumCircuit):\n",
    "    \"\"\"\n",
    "    Runs the Deutsch algorithm with the specified oracle.\n",
    "    Returns 'constant' or 'balanced' based on the measurement result.\n",
    "    \"\"\"\n",
    "    qc = compile_circuit(oracle)\n",
    "    display(qc.draw('mpl'))\n",
    "\n",
    "    result = AerSimulator().run(transpile(qc, AerSimulator()), shots=1, memory=True).result()\n",
    "    measurements = result.get_memory()\n",
    "    if measurements[0] == \"0\":\n",
    "        return \"constant\"\n",
    "    return \"balanced\"\n",
    "\n",
    "# Test with a constant function oracle\n",
    "print(\"Constant oracle result:\", deutsch_algorithm(constant_oracle()))\n",
    "\n",
    "# Test with a balanced function oracle\n",
    "print(\"Balanced oracle result:\", deutsch_algorithm(balanced_oracle()))\n"
   ]
  },
  {
   "cell_type": "markdown",
   "id": "2501e602",
   "metadata": {},
   "source": [
    "## Interpretation\n",
    "\n",
    "The Deutsch algorithm determines whether the oracle implements a constant or balanced function using only **one** function evaluation.  \n",
    "A classical approach would require two evaluations to determine the same result.\n",
    "\n",
    "This demonstrates the quantum speedup made possible by quantum parallelism and interference.\n"
   ]
  }
 ],
 "metadata": {
  "kernelspec": {
   "display_name": "qiskit",
   "language": "python",
   "name": "python3"
  },
  "language_info": {
   "codemirror_mode": {
    "name": "ipython",
    "version": 3
   },
   "file_extension": ".py",
   "mimetype": "text/x-python",
   "name": "python",
   "nbconvert_exporter": "python",
   "pygments_lexer": "ipython3",
   "version": "3.10.16"
  }
 },
 "nbformat": 4,
 "nbformat_minor": 5
}
