{
 "cells": [
  {
   "cell_type": "markdown",
   "id": "d683aec3",
   "metadata": {},
   "source": [
    "# E91 Protocol\n",
    "\n",
    "The E91 protocol is a quantum key distribution (QKD) scheme proposed by Artur Ekert in 1991. Unlike the BB84 protocol, which uses non-orthogonal quantum states to ensure security, E91 leverages quantum entanglement and Bell’s theorem to detect potential eavesdropping. \n",
    "\n",
    "In this protocol, pairs of entangled qubits (specifically in Bell states) are distributed to two distant parties, Alice and Bob. Each party randomly measures their qubit using one of three predefined measurement directions. The fundamental principle behind E91 is that entangled pairs exhibit correlations that cannot be explained by classical physics — a property captured by Bell inequalities. Violations of these inequalities indicate the presence of non-classical (quantum) correlations, which are inherently secure against eavesdropping.\n",
    "\n",
    "After performing their measurements, Alice and Bob publicly reveal the basis they used (but not the measurement outcomes). When their basis choices match, the outcomes are perfectly correlated, allowing them to generate a shared secret key. The outcomes from mismatched bases are used to perform a Bell test, verifying the presence of quantum entanglement and ensuring that no eavesdropper has interfered.\n",
    "\n",
    "This protocol highlights a fundamental advantage of quantum cryptography: its security is not based on computational difficulty, as in classical cryptography, but on the physical principles of quantum mechanics, particularly the non-local correlations inherent to entangled states.\n"
   ]
  },
  {
   "cell_type": "code",
   "execution_count": 1,
   "id": "fbefbaeb",
   "metadata": {},
   "outputs": [],
   "source": [
    "# Number of entangled qubit pairs (shared rounds between Alice and Bob)\n",
    "n_pairs = 50000\n"
   ]
  },
  {
   "cell_type": "markdown",
   "id": "cc63cf7e",
   "metadata": {},
   "source": [
    "## Step 1 – Generate Bell States\n",
    "\n",
    "The first step of the E91 protocol is to generate entangled pairs of qubits shared between Alice and Bob. Specifically, we aim to create qubit pairs in the Bell state:\n",
    "\n",
    "\\begin{equation*}\n",
    "\\ket{\\Phi^+} = \\frac{1}{\\sqrt{2}} \\left( \\ket{00} + \\ket{11} \\right)\n",
    "\\end{equation*}\n",
    "\n",
    "This state exhibits perfect correlations when measured in the same basis and is maximally entangled, making it ideal for quantum key distribution.\n",
    "\n",
    "To construct this state, we proceed as follows:\n",
    "\n",
    "- Apply a Hadamard gate to the first qubit to create a superposition.\n",
    "- Apply a controlled-NOT (CNOT) gate with the first qubit as control and the second as target.\n",
    "- The resulting state is the entangled Bell state $ \\ket{\\Phi^+} $.\n",
    "- This pair is then distributed to Alice and Bob for measurement.\n"
   ]
  },
  {
   "cell_type": "code",
   "execution_count": 2,
   "id": "d08239ec",
   "metadata": {},
   "outputs": [
    {
     "data": {
      "image/png": "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",
      "text/plain": [
       "<Figure size 287.294x284.278 with 1 Axes>"
      ]
     },
     "execution_count": 2,
     "metadata": {},
     "output_type": "execute_result"
    }
   ],
   "source": [
    "from qiskit import QuantumCircuit\n",
    "\n",
    "# Create a quantum circuit to prepare the Bell state |Φ+⟩\n",
    "def create_bell_pair():\n",
    "    qc = QuantumCircuit(2, 2)\n",
    "    qc.h(0)\n",
    "    qc.cx(0, 1)\n",
    "    return qc\n",
    "\n",
    "\n",
    "# Display the Bell state preparation circuit\n",
    "bell_circuit = create_bell_pair()\n",
    "bell_circuit.draw('mpl')\n",
    "\n"
   ]
  },
  {
   "cell_type": "markdown",
   "id": "50c7972e",
   "metadata": {},
   "source": [
    "## Step 2 – Choose Measurement Bases\n",
    "\n",
    "In the E91 protocol, Alice and Bob independently choose a measurement basis at random for every entangled pair they receive. The available directions lie in the equatorial plane of the Bloch sphere, chosen to maximize the violation of Bell’s inequality while allowing for key generation.\n",
    "\n",
    "Alice and Bob each choose from three possible measurement angles:\n",
    "\n",
    "- Alice's measurement angles are:\n",
    "  \\begin{equation*}\n",
    "  a_1 = 0^\\circ, \\quad a_2 = 45^\\circ, \\quad a_3 = 90^\\circ\n",
    "  \\end{equation*}\n",
    "\n",
    "- Bob's measurement angles are:\n",
    "  \\begin{equation*}\n",
    "  b_1 = 45^\\circ, \\quad b_2 = 90^\\circ, \\quad b_3 = 135^\\circ\n",
    "  \\end{equation*}\n",
    "\n",
    "These angles are specifically chosen because they are known to maximize the quantum violation of the CHSH inequality ($S = 2\\sqrt{2}$) when used with the Bell state $ \\ket{\\Phi^+} $, while also providing a mechanism for generating a shared secret key when Alice and Bob choose the same basis.\n",
    "\n",
    "Each party selects their measurement basis independently and uniformly at random for every pair of qubits. This independent random choice is crucial for both security and the correct testing of quantum correlations.\n"
   ]
  },
  {
   "cell_type": "code",
   "execution_count": 3,
   "id": "987179ef",
   "metadata": {},
   "outputs": [],
   "source": [
    "import numpy as np\n",
    "import random\n",
    "\n",
    "# Ekert’s original three angles (in radians)\n",
    "alice_basis_angles = [0, np.pi/4, np.pi/2]       # 0°, 45°, 90°\n",
    "bob_basis_angles   = [np.pi/4, np.pi/2, 3*np.pi/4]  # 45°, 90°, 135°\n",
    "\n",
    "\n",
    "# Generate a list of random basis choices for Alice and Bob\n",
    "alice_choices = [random.choice(alice_basis_angles) for _ in range(n_pairs)]\n",
    "bob_choices   = [random.choice(bob_basis_angles) for _ in range(n_pairs)]\n"
   ]
  },
  {
   "cell_type": "markdown",
   "id": "f9219247",
   "metadata": {},
   "source": [
    "## Step 3 – Simulate Measurements\n",
    "\n",
    "To measure each qubit in the desired basis, we rotate it so that the chosen measurement direction aligns with the standard Z-basis of the Bloch sphere.\n",
    "\n",
    "The measurement process follows these steps:\n",
    "\n",
    "- Each basis angle $ \\theta $ is interpreted as a direction in the equatorial plane of the Bloch sphere. The chosen angles are:\n",
    "  - Alice: $ 0^\\circ $, $ 45^\\circ $, $ 90^\\circ $\n",
    "  - Bob: $ 45^\\circ $, $ 90^\\circ $, $ 135^\\circ $\n",
    "\n",
    "- To align the measurement axis with the Z-basis, we apply a rotation around the Y-axis by $ -\\theta $ :\n",
    "  \\begin{equation*}\n",
    "  R_y(\\theta) = \\exp\\left( -i \\theta Y \\right)\n",
    "  \\end{equation*}\n",
    "\n",
    "- After rotation, we perform a standard measurement in the computational basis ($ \\ket{0} $, $ \\ket{1} $).\n",
    "\n",
    "- Record the outcomes for both Alice and Bob. The outcomes reflect the projection of the qubit state along the chosen measurement direction.\n",
    "\n",
    "This procedure ensures that the measurement outcomes accurately correspond to the chosen basis angles, allowing the comparison of correlations between Alice's and Bob's results.\n"
   ]
  },
  {
   "cell_type": "code",
   "execution_count": 4,
   "id": "6dc87dad",
   "metadata": {},
   "outputs": [],
   "source": [
    "from qiskit_aer import AerSimulator\n",
    "\n",
    "# Initialize simulator\n",
    "simulator = AerSimulator()\n",
    "\n",
    "# Store outcomes\n",
    "alice_results = []\n",
    "bob_results = []\n",
    "\n",
    "# Function to apply measurement rotation for a given angle (in degrees)\n",
    "def apply_measurement_rotation(qc: QuantumCircuit, qubit: int, angle: float):\n",
    "    qc.ry(- angle, qubit)\n",
    "\n",
    "\n",
    "\n",
    "# Simulate all rounds\n",
    "for a_angle, b_angle in zip(alice_choices, bob_choices):\n",
    "    qc = create_bell_pair()\n",
    "\n",
    "    # Apply basis rotations\n",
    "    apply_measurement_rotation(qc, 0, a_angle)  # Alice\n",
    "    apply_measurement_rotation(qc, 1, b_angle)  # Bob\n",
    "\n",
    "    # Measure in Z-basis\n",
    "    qc.measure(0, 0)\n",
    "    qc.measure(1, 1)\n",
    "\n",
    "    # Run simulation on 1 shot\n",
    "    result = simulator.run(qc, shots=1).result()\n",
    "    counts = result.get_counts()\n",
    "\n",
    "    # Extract bitstring (e.g., '10' → Alice: 1, Bob: 0)\n",
    "    outcome = list(counts.keys())[0]\n",
    "    alice_results.append(int(outcome[1]))\n",
    "    bob_results.append(int(outcome[0]))\n"
   ]
  },
  {
   "cell_type": "markdown",
   "id": "be5f9f47",
   "metadata": {},
   "source": [
    "## Step 4 – Reveal Bases and Filter Results\n",
    "\n",
    "After all measurements are completed, Alice and Bob publicly share the measurement basis they used for each round (but not the measurement outcomes). This allows them to determine which rounds can be used for key generation and which can be used for verifying quantum correlations.\n",
    "\n",
    "The data is then filtered as follows:\n",
    "\n",
    "- **Key Generation Rounds:**\n",
    "  - Keep only the rounds where Alice and Bob used the **same basis**.\n",
    "  - In the ideal case, these rounds yield perfectly correlated or anti-correlated outcomes, depending on the measurement direction.\n",
    "  - These rounds are used to construct the **shared secret key**.\n",
    "\n",
    "- **Bell Test Rounds:**\n",
    "  - Use the rounds where Alice and Bob used **mismatched bases**.\n",
    "  - These rounds are used to estimate the degree of **quantum correlation** by computing the CHSH parameter \$S\$.\n",
    "  - Detecting a significant violation of the classical bound (\$S > 2\$) confirms the presence of **quantum entanglement** and ensures that no eavesdropper has tampered with the entanglement.\n",
    "\n",
    "This step ensures that only secure and verifiable data is used for key generation while simultaneously testing the integrity of the shared entanglement.\n"
   ]
  },
  {
   "cell_type": "code",
   "execution_count": 5,
   "id": "3c235d61",
   "metadata": {},
   "outputs": [
    {
     "name": "stdout",
     "output_type": "stream",
     "text": [
      "Alice key bits: [0, 0, 0, 0, 0, 0, 1, 0, 0, 0, 1, 0, 1, 0, 0, 0, 0, 1, 0, 1]\n",
      "Bob   key bits: [0, 0, 0, 0, 0, 0, 1, 0, 0, 0, 1, 0, 1, 0, 0, 0, 0, 1, 0, 1]\n",
      "Key agreement rate: 100.00%\n",
      "Key length: 11125 bits\n"
     ]
    }
   ],
   "source": [
    "# 1) Build all_data from choices + results\n",
    "all_data = [\n",
    "    (\n",
    "        alice_choices[i],    # already the angle\n",
    "        bob_choices[i],      # already the angle\n",
    "        alice_results[i],\n",
    "        bob_results[i],\n",
    "    )\n",
    "    for i in range(n_pairs)\n",
    "]\n",
    "\n",
    "\n",
    "# 2) Define test vs. key basis-pairs (angles in radians)\n",
    "test_pairs = {\n",
    "    (0,         np.pi/4),\n",
    "    (0,         3*np.pi/4),\n",
    "    (np.pi/2,   np.pi/4),\n",
    "    (np.pi/2,   3*np.pi/4),\n",
    "}\n",
    "#key_pair = (np.pi/4, np.pi/2)\n",
    "key_pair = {\n",
    "    (np.pi/2, np.pi/2),\n",
    "    (np.pi/4, np.pi/4),\n",
    "}\n",
    "\n",
    "\n",
    "# 3) Split into test_data and key_data\n",
    "test_data = [d for d in all_data if (d[0], d[1]) in test_pairs]\n",
    "key_data  = [d for d in all_data if (d[0], d[1]) in key_pair]\n",
    "\n",
    "# 4) Extract raw key bits (Alice vs. Bob)\n",
    "alice_key = [A for (_, _, A, B) in key_data]\n",
    "bob_key   = [B for (_, _, A, B) in key_data]\n",
    "\n",
    "# 5) Print the first 20 bits of each\n",
    "print(\"Alice key bits:\", alice_key[:20])\n",
    "print(\"Bob   key bits:\", bob_key[:20])\n",
    "\n",
    "# 6) Compute agreement rate\n",
    "matches = [A == B for A, B in zip(alice_key, bob_key)]\n",
    "agreement_rate = sum(matches) / len(matches) if matches else 0\n",
    "print(f\"Key agreement rate: {agreement_rate:.2%}\")\n",
    "print(f\"Key length: {len(alice_key)} bits\")\n"
   ]
  },
  {
   "cell_type": "markdown",
   "id": "68ac37ac",
   "metadata": {},
   "source": [
    "## Step 5 – Bell Inequality Test\n",
    "\n",
    "To verify the presence of quantum correlations and detect possible eavesdropping, Alice and Bob analyze the rounds where they used different measurement bases.\n",
    "\n",
    "The test proceeds as follows:\n",
    "\n",
    "- Use the outcomes from mismatched basis rounds to compute correlation values.\n",
    "- Estimate the CHSH parameter $ S $, defined as:\n",
    "  \\begin{equation*}\n",
    "  S = |E(a, b) - E(a, b') + E(a', b) + E(a', b')|\n",
    "  \\end{equation*}\n",
    "  where $ E(a, b) $ denotes the expectation value of joint measurements along settings $ a $ and $ b $.\n",
    "- Compare the result with the classical bound:\n",
    "  \\begin{equation*}\n",
    "  S \\leq 2\n",
    "  \\end{equation*}\n",
    "- A violation of this inequality (i.e., $ S > 2 $) indicates the presence of entanglement and confirms the absence of local realistic explanations.\n",
    "\n",
    "This test is essential to guarantee the security of the key distribution process.\n"
   ]
  },
  {
   "cell_type": "code",
   "execution_count": 6,
   "id": "20db7e15",
   "metadata": {},
   "outputs": [
    {
     "name": "stdout",
     "output_type": "stream",
     "text": [
      "Bell parameter S = 2.813\n"
     ]
    }
   ],
   "source": [
    "def compute_E(a_angle: float, b_angle: float, dataset):\n",
    "    \"\"\"\n",
    "    E(a,b) = (N00 + N11 - N01 - N10) / (N00 + N11 + N01 + N10)\n",
    "    where Nij counts outcomes (A=i, B=j).\n",
    "    \"\"\"\n",
    "    # Filter for this angle pair\n",
    "    sub = [(A, B) for (a, b, A, B) in dataset if a == a_angle and b == b_angle]\n",
    "\n",
    "    # Count coincidences\n",
    "    n00 = sum(1 for A, B in sub if   A == 0 and B == 0)\n",
    "    n11 = sum(1 for A, B in sub if   A == 1 and B == 1)\n",
    "    n01 = sum(1 for A, B in sub if   A == 0 and B == 1)\n",
    "    n10 = sum(1 for A, B in sub if   A == 1 and B == 0)\n",
    "\n",
    "    total = n00 + n11 + n01 + n10\n",
    "    return (n00 + n11 - n01 - n10) / total if total > 0 else 0\n",
    "\n",
    "# Example: compute the four E’s for CHSH\n",
    "E00 = compute_E(0,        np.pi/4, test_data)   # (0°, 45°)\n",
    "E01 = compute_E(0,        3*np.pi/4, test_data) # (0°, 135°)\n",
    "E10 = compute_E(np.pi/2,  np.pi/4, test_data)   # (90°, 45°)\n",
    "E11 = compute_E(np.pi/2,  3*np.pi/4, test_data) # (90°, 135°)\n",
    "\n",
    "S = abs(E00 - E01 + E10 + E11)\n",
    "\n",
    "print(f\"Bell parameter S = {S:.3f}\")\n"
   ]
  }
 ],
 "metadata": {
  "kernelspec": {
   "display_name": "qiskit",
   "language": "python",
   "name": "python3"
  },
  "language_info": {
   "codemirror_mode": {
    "name": "ipython",
    "version": 3
   },
   "file_extension": ".py",
   "mimetype": "text/x-python",
   "name": "python",
   "nbconvert_exporter": "python",
   "pygments_lexer": "ipython3",
   "version": "3.10.16"
  }
 },
 "nbformat": 4,
 "nbformat_minor": 5
}
