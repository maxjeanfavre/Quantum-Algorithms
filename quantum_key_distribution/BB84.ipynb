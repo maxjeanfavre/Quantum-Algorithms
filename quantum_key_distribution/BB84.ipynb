{
 "cells": [
  {
   "cell_type": "markdown",
   "id": "eafeffda",
   "metadata": {},
   "source": [
    "# BB84 Quantum Key Distribution Protocol\n",
    "\n",
    "This notebook implements the BB84 quantum key distribution protocol using Qiskit. It simulates the process of Alice preparing and sending qubits, Bob measuring them, and both parties comparing bases to extract a shared key. This implementation assumes a noise-free quantum channel.\n"
   ]
  },
  {
   "cell_type": "code",
   "execution_count": 175,
   "id": "aaa85d07",
   "metadata": {},
   "outputs": [],
   "source": [
    "import numpy as np\n",
    "from qiskit import QuantumCircuit\n",
    "from qiskit_aer import AerSimulator\n"
   ]
  },
  {
   "cell_type": "code",
   "execution_count": 176,
   "id": "f3171d83",
   "metadata": {},
   "outputs": [],
   "source": [
    "# Number of qubits (key length before sifting)\n",
    "num_qubit = 64\n"
   ]
  },
  {
   "cell_type": "markdown",
   "id": "337a5a4f",
   "metadata": {},
   "source": [
    "## Step 1: Alice generates her random bits and basis\n",
    "\n",
    "- Alice generates a completely random sequence of bits (0 or 1).\n",
    "- These bits are not a message — they are just a temporary random sequence for key generation.\n",
    "- She also randomly chooses a basis (Z or X) for each bit:\n",
    "  - **Z basis** (computational): encodes 0 as |0⟩ and 1 as |1⟩.\n",
    "  - **X basis** (Hadamard): encodes 0 as |+⟩ and 1 as |−⟩.\n",
    "- These bits and bases will be used to prepare the quantum states she sends to Bob.\n"
   ]
  },
  {
   "cell_type": "code",
   "execution_count": 177,
   "id": "47ace38e",
   "metadata": {},
   "outputs": [],
   "source": [
    "# Alice's random bit values (0 or 1)\n",
    "A_bits = np.random.randint(0, 2, num_qubit)\n",
    "\n",
    "# Alice's random basis choices (0 = Z basis, 1 = X basis)\n",
    "A_base = np.random.randint(0, 2, num_qubit)\n"
   ]
  },
  {
   "cell_type": "markdown",
   "id": "5dc471ef",
   "metadata": {},
   "source": [
    "## Step 2: Alice prepares the qubits based on bits and basis\n",
    "\n",
    "- Alice encodes each bit using the basis she selected:\n",
    "  - If the bit is 1, she applies an X gate.\n",
    "  - If the basis is X, she applies a Hadamard gate.\n",
    "- The resulting qubits are now in superposition states and ready to be sent.\n"
   ]
  },
  {
   "cell_type": "code",
   "execution_count": 178,
   "id": "f8e7e73d",
   "metadata": {},
   "outputs": [],
   "source": [
    "def Alice_preparation(bits, bases, circuit):\n",
    "    circuit.barrier()\n",
    "    \n",
    "    # Step 1: Encode the bits\n",
    "    # If the bit is 1, apply an X gate to flip |0⟩ to |1⟩\n",
    "    for i in range(len(bits)):\n",
    "        if bits[i] == 1:\n",
    "            circuit.x(i)\n",
    "    \n",
    "    circuit.barrier()\n",
    "    \n",
    "    # Step 2: Apply basis encoding\n",
    "    # If the basis is X (i.e., 1), apply a Hadamard gate to move to the |+⟩ / |−⟩ basis\n",
    "    for i in range(len(bases)):\n",
    "        if bases[i] == 1:\n",
    "            circuit.h(i)\n",
    "    \n",
    "    circuit.barrier()\n",
    "\n"
   ]
  },
  {
   "cell_type": "markdown",
   "id": "28bbca80",
   "metadata": {},
   "source": [
    "## Step 3: Bob measures the qubits\n",
    "\n",
    "- Bob independently chooses a random basis (Z or X) for each qubit he receives from Alice.\n",
    "- If his chosen basis is **X**, he applies a Hadamard gate to rotate the qubit into the computational basis.\n",
    "- He then performs a standard measurement in the computational (Z) basis.\n",
    "- The results of these measurements form Bob's raw bit sequence.\n",
    "\n"
   ]
  },
  {
   "cell_type": "code",
   "execution_count": 179,
   "id": "74a35e61",
   "metadata": {},
   "outputs": [],
   "source": [
    "# Bob's random basis choices for each qubit\n",
    "B_base = np.random.randint(0, 2, num_qubit)\n",
    "\n",
    "def Bob_measurement(bases, circuit):\n",
    "    # Step 1: Apply basis\n",
    "    # If Bob's basis is X (1), apply a Hadamard to rotate to the computational basis\n",
    "    for i in range(len(bases)):\n",
    "        if bases[i] == 1:\n",
    "            circuit.h(i)\n",
    "    \n",
    "    # Step 2: Measure all qubits in the computational (Z) basis\n",
    "    circuit.measure_all()\n"
   ]
  },
  {
   "cell_type": "markdown",
   "id": "0ddabdfa",
   "metadata": {},
   "source": [
    "## Step 4: Simulating the quantum transmission\n",
    "\n",
    "- In a real BB84 protocol, Alice sends qubits through a quantum channel to Bob.\n",
    "- In our simulation, both Alice’s preparation and Bob’s measurement are applied in sequence within a single quantum circuit.\n",
    "- We use Qiskit’s `AerSimulator` to simulate the execution of the circuit.\n",
    "- The circuit includes:\n",
    "  - Alice’s preparation of the qubits.\n",
    "  - Bob’s basis choices and measurements.\n",
    "- The output from the simulator mimics what Bob would measure in real life.\n"
   ]
  },
  {
   "cell_type": "code",
   "execution_count": 180,
   "id": "6c141b21",
   "metadata": {},
   "outputs": [],
   "source": [
    "# Initialize the circuit\n",
    "qc = QuantumCircuit(num_qubit)\n",
    "\n",
    "# Add the Alice preparation\n",
    "Alice_preparation(A_bits, A_base, qc)\n",
    "\n",
    "# Add the Bob measurement\n",
    "Bob_measurement(B_base, qc)\n",
    "\n",
    "# Print the circuit (Optional)\n",
    "#display(qc.draw('mpl'))\n",
    "\n",
    "# Simulate the circuit\n",
    "simulator = AerSimulator()\n",
    "result = simulator.run(qc, shots=1, memory=True).result()\n",
    "\n",
    "# Extract the bitstring from the result\n",
    "bitstring = result.get_memory()[0].replace(\" \", \"\")[::-1]\n",
    "B_bits = np.array([int(bit) for bit in bitstring])\n"
   ]
  },
  {
   "cell_type": "markdown",
   "id": "eea24bc3",
   "metadata": {},
   "source": [
    "## Step 5: Extracting the shared key\n",
    "\n",
    "- After the simulation, Alice and Bob compare the bases they used.\n",
    "- They keep only the bits where their basis choices matched — this process is called **key sifting**.\n",
    "- If no noise or eavesdropping occurred, these shared bits should be identical.\n",
    "- This forms the basis of their secret key.\n"
   ]
  },
  {
   "cell_type": "code",
   "execution_count": 181,
   "id": "4b8f8ae7",
   "metadata": {},
   "outputs": [
    {
     "name": "stdout",
     "output_type": "stream",
     "text": [
      "Alice's shared key: [1 1 0 0 0 0 1 1 0 1 0 1 1 0 1 0 1 0 1 0 0 1 0 0 0 0]\n",
      "Bob's shared key:   [1 1 0 0 0 0 1 1 0 1 0 1 1 0 1 0 1 0 1 0 0 1 0 0 0 0]\n"
     ]
    }
   ],
   "source": [
    "# Indices where bases matched\n",
    "matching = (A_base == B_base)\n",
    "\n",
    "A_shared = A_bits[matching]\n",
    "B_shared = B_bits[matching]\n",
    "\n",
    "print(\"Alice's shared key:\", A_shared)\n",
    "print(\"Bob's shared key:  \", B_shared)\n"
   ]
  },
  {
   "cell_type": "markdown",
   "id": "9b59995b",
   "metadata": {},
   "source": [
    "## Step 6: Comparing results\n",
    "\n",
    "- We compare Alice’s and Bob’s shared keys to see if they agree.\n",
    "- The percentage of matching bits gives us the **key agreement rate**.\n",
    "- In a perfect simulation without noise, this rate should be 100%.\n",
    "- In a real system, a lower rate may indicate:\n",
    "  - Noise in the quantum channel.\n",
    "  - An eavesdropper (Eve) interfering with the transmission.\n"
   ]
  },
  {
   "cell_type": "code",
   "execution_count": 182,
   "id": "abe709b9",
   "metadata": {},
   "outputs": [
    {
     "name": "stdout",
     "output_type": "stream",
     "text": [
      "Key agreement rate: 100.00%\n"
     ]
    }
   ],
   "source": [
    "matches = A_shared == B_shared\n",
    "agreement_rate = np.sum(matches) / len(matches)\n",
    "\n",
    "print(f\"Key agreement rate: {agreement_rate:.2%}\")\n"
   ]
  },
  {
   "cell_type": "markdown",
   "id": "b6b4699a",
   "metadata": {},
   "source": [
    "## Optional: Simulating a Noisy Quantum Channel\n",
    "\n",
    "- In the real world, the quantum channel between Alice and Bob is not perfect — qubits can be affected by decoherence, loss, or unwanted interactions.\n",
    "- To simulate this, we apply **depolarizing noise** to each qubit **after Alice's preparation and before Bob's measurement**.\n",
    "- Depolarizing noise randomly replaces a qubit’s state with a completely mixed state with a given probability.\n",
    "- This models a noisy transmission line while keeping Alice’s and Bob’s operations ideal.\n",
    "- The noise level can be adjusted to observe how increasing imperfections impact the agreement rate between Alice and Bob’s shared keys.\n"
   ]
  },
  {
   "cell_type": "code",
   "execution_count": 183,
   "id": "18917ecd",
   "metadata": {},
   "outputs": [],
   "source": [
    "from qiskit_aer.noise import depolarizing_error\n",
    "\n",
    "def apply_channel_noise(qc, noise_level) -> None:\n",
    "    # Create a depolarizing noise channel with the given error probability\n",
    "    error_channel = depolarizing_error(noise_level, 1).to_instruction()\n",
    "\n",
    "    # Apply the noise channel to each qubit to simulate transmission noise\n",
    "    for i in range(qc.num_qubits):\n",
    "        qc.append(error_channel, [i])\n"
   ]
  },
  {
   "cell_type": "code",
   "execution_count": 184,
   "id": "30797a46",
   "metadata": {},
   "outputs": [
    {
     "name": "stdout",
     "output_type": "stream",
     "text": [
      "Alice's shared key (noisy): [1 1 0 0 0 0 1 1 0 1 0 1 1 0 1 0 1 0 1 0 0 1 0 0 0 0]\n",
      "Bob's shared key   (noisy): [1 1 0 0 0 1 1 1 1 1 1 1 1 0 0 0 1 1 1 1 0 0 1 1 0 0]\n",
      "Key agreement rate (noisy): 65.38%\n"
     ]
    }
   ],
   "source": [
    "# Create a new quantum circuit for the noisy BB84 protocol\n",
    "qc_noisy = QuantumCircuit(num_qubit)\n",
    "\n",
    "# Alice encodes her bits using her chosen bases\n",
    "Alice_preparation(A_bits, A_base, qc_noisy)\n",
    "\n",
    "# Apply depolarizing noise to simulate a noisy quantum channel\n",
    "apply_channel_noise(qc_noisy, noise_level=0.5)\n",
    "\n",
    "# Bob measures the received qubits using his own random bases\n",
    "Bob_measurement(B_base, qc_noisy)\n",
    "\n",
    "# Simulate the full noisy circuit\n",
    "simulator = AerSimulator()\n",
    "result_noisy = simulator.run(qc_noisy, shots=1, memory=True).result()\n",
    "\n",
    "# Extract Bob's measurement results and convert to array\n",
    "bitstring_noisy = result_noisy.get_memory()[0].replace(\" \", \"\")[::-1]\n",
    "B_bits_noisy = np.array([int(b) for b in bitstring_noisy])\n",
    "\n",
    "# Keep only the bits where Alice and Bob used the same basis\n",
    "matching_noisy = (A_base == B_base)\n",
    "A_shared_noisy = A_bits[matching_noisy]\n",
    "B_shared_noisy = B_bits_noisy[matching_noisy]\n",
    "\n",
    "# Print shared key results and agreement rate\n",
    "print(\"Alice's shared key (noisy):\", A_shared_noisy)\n",
    "print(\"Bob's shared key   (noisy):\", B_shared_noisy)\n",
    "\n",
    "matches_noisy = A_shared_noisy == B_shared_noisy\n",
    "agreement_rate_noisy = np.sum(matches_noisy) / len(matches_noisy)\n",
    "print(f\"Key agreement rate (noisy): {agreement_rate_noisy:.2%}\")\n"
   ]
  },
  {
   "cell_type": "markdown",
   "id": "993ec4a1",
   "metadata": {},
   "source": [
    "Information reconciliation can be applied to the noisy shared key to improve the agreement rate between Alice and Bob. However, this process typically reduces the final key length, as some bits must be discarded or publicly verified.\n",
    "\n",
    "An eavesdropper (Eve) can also be introduced by intercepting the qubits sent by Alice, measuring them in a random basis, and then preparing and forwarding new qubits to Bob. Due to the no-cloning theorem, Eve's interference disturbs the quantum states and introduces detectable errors. By publicly comparing a small, randomly chosen subset of their bits, Alice and Bob can estimate the error rate and detect the presence of an eavesdropper."
   ]
  },
  {
   "cell_type": "markdown",
   "id": "1892f2b3",
   "metadata": {},
   "source": [
    "## References\n",
    "\n",
    "- [1] Wikipedia, *Quantum Key Distribution*.  \n",
    "  https://en.wikipedia.org/wiki/Quantum_key_distribution\n",
    "\n",
    "- [2] Nielsen, M. A., & Chuang, I. L. (2000). *Quantum Computation and Quantum Information*. Cambridge University Press.  \n",
    "\n",
    "- [3] IBM Qiskit Documentation. \n",
    "  https://qiskit.org/learn/\n",
    "\n"
   ]
  },
  {
   "cell_type": "markdown",
   "id": "aac3d4a2",
   "metadata": {},
   "source": []
  }
 ],
 "metadata": {
  "kernelspec": {
   "display_name": "qiskit",
   "language": "python",
   "name": "python3"
  },
  "language_info": {
   "codemirror_mode": {
    "name": "ipython",
    "version": 3
   },
   "file_extension": ".py",
   "mimetype": "text/x-python",
   "name": "python",
   "nbconvert_exporter": "python",
   "pygments_lexer": "ipython3",
   "version": "3.10.16"
  }
 },
 "nbformat": 4,
 "nbformat_minor": 5
}
