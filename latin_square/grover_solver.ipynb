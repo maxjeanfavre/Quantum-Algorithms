{
 "cells": [
  {
   "cell_type": "markdown",
   "id": "c69ba53e",
   "metadata": {},
   "source": [
    "# Grover Solver Notebook\n",
    "\n",
    "This notebook runs the full `run_grover` pipeline on a user-defined grid.\n",
    "\n",
    "**What to specify:**  \n",
    "- **`grid`** (in the first code cell): a list of lists, with integers or `None` for blanks.  \n",
    "- **`num_solutions`**: the known or assumed count of valid completions.\n",
    "\n",
    "**What happens when you run it:**  \n",
    "1. The grid is printed.  \n",
    "2. The search-space size (N), solution count (M), and optimal Grover iterations (r) are computed and displayed.  \n",
    "3. A quantum circuit is built and the Grover loop is applied r times.  \n",
    "4. The circuit is simulated, all qubits are measured, and raw counts are shown.  \n",
    "5. Final grid configurations are reconstructed, pretty-printed with their counts, and a histogram of frequencies is plotted.\n"
   ]
  },
  {
   "cell_type": "markdown",
   "id": "5785465f",
   "metadata": {},
   "source": [
    "## Empty‐Grid Solution Counts\n",
    "\n",
    "The table below shows the number of completions (M) for fully blank n×m grids (Latin rectangles on n symbols). These counts are symmetric under swapping n and m (grid transpose).\n",
    "\n",
    "| Grid size (n × m) | Solutions (M) |\n",
    "|:-----------------:|--------------:|\n",
    "| 3 × 1             |             6 |\n",
    "| 4 × 1             |            24 |\n",
    "| 5 × 1             |           120 |\n",
    "| 2 × 2             |             2 |\n",
    "| 3 × 2             |            12 |\n",
    "| 4 × 2             |           216 |\n",
    "| 3 × 3             |            12 |\n",
    "\n",
    "*Note:* The 5 × 1, 4 × 2 and 3 × 3 cases involve many qubits (and large search spaces) and are likely too expensive to simulate on a typical desktop.  \n"
   ]
  },
  {
   "cell_type": "code",
   "execution_count": 1,
   "id": "3071df19",
   "metadata": {},
   "outputs": [],
   "source": [
    "%reset -f\n",
    "from run_grover import run_grover"
   ]
  },
  {
   "cell_type": "code",
   "execution_count": null,
   "id": "9f140d6d",
   "metadata": {},
   "outputs": [],
   "source": [
    "'''\n",
    "Note: You cannot run Grover's algorithm if the number of solutions is half or more of the search space.\n",
    "This is an inherent limitation of the Grover algorithm. For example, you cannot run Grover on a 1*2 empty grid\n",
    "(search space size: 4, solution count: 2).\n",
    "\n",
    "\n",
    "# Examples of pre-filled grids and their known number of solutions\n",
    "\n",
    "# 2*2 with a value fixed\n",
    "grid = [\n",
    "    [0, None],\n",
    "    [None, None],\n",
    "]\n",
    "num_solutions = 1 \n",
    "\n",
    "# 1*4 with a value fixed\n",
    "grid = [\n",
    "    [None, None, 3, None],\n",
    "]\n",
    "num_solutions = 6 \n",
    "\n",
    "# 2*3 with a value fixed\n",
    "grid = [\n",
    "    [None, None, 1],\n",
    "    [None, None, None],\n",
    "]\n",
    "num_solutions = 4 \n",
    "\n",
    "# 2*3 with 2 values fixed\n",
    "grid = [\n",
    "    [None, None, 1],\n",
    "    [3, None, None],\n",
    "]\n",
    "num_solutions = 2\n",
    "\n",
    "'''\n",
    "\n",
    "# Enter the grid here \n",
    "grid = [\n",
    "    [None, None, None],\n",
    "]\n",
    "num_solutions = 6\n"
   ]
  },
  {
   "cell_type": "code",
   "execution_count": 3,
   "id": "da6217ed",
   "metadata": {},
   "outputs": [
    {
     "name": "stdout",
     "output_type": "stream",
     "text": [
      "Initial grid:\n",
      "Count = 1\n",
      "+------+------+------+\n",
      "| None | None | None |\n",
      "+------+------+------+\n",
      "\n",
      "Total possibilities N = 64\n",
      "Number of solutions M = 6\n",
      "Optimal Grover iterations r = 2\n",
      "\n",
      "Total qubits used: 18\n",
      "Circuit depth: 1672\n",
      "Total gates: 3210\n",
      "\n",
      "Aggregated grid counts:\n",
      "Count = 187\n",
      "+---+---+---+\n",
      "| 0 | 2 | 1 |\n",
      "+---+---+---+\n",
      "\n",
      "Count = 161\n",
      "+---+---+---+\n",
      "| 1 | 0 | 2 |\n",
      "+---+---+---+\n",
      "\n",
      "Count = 189\n",
      "+---+---+---+\n",
      "| 1 | 2 | 0 |\n",
      "+---+---+---+\n",
      "\n",
      "Count = 152\n",
      "+---+---+---+\n",
      "| 2 | 0 | 1 |\n",
      "+---+---+---+\n",
      "\n",
      "Count = 153\n",
      "+---+---+---+\n",
      "| 2 | 1 | 0 |\n",
      "+---+---+---+\n",
      "\n",
      "Count = 182\n",
      "+---+---+---+\n",
      "| 0 | 1 | 2 |\n",
      "+---+---+---+\n",
      "\n"
     ]
    },
    {
     "data": {
      "image/png": "[encoded data removed]",
      "text/plain": [
       "<Figure size 640x480 with 1 Axes>"
      ]
     },
     "metadata": {},
     "output_type": "display_data"
    }
   ],
   "source": [
    "run_grover(grid, num_solutions, sim_type=\"statevector\", shots=1024)"
   ]
  },
  {
   "cell_type": "code",
   "execution_count": null,
   "id": "4f359137",
   "metadata": {},
   "outputs": [],
   "source": []
  }
 ],
 "metadata": {
  "kernelspec": {
   "display_name": "qiskit",
   "language": "python",
   "name": "python3"
  },
  "language_info": {
   "codemirror_mode": {
    "name": "ipython",
    "version": 3
   },
   "file_extension": ".py",
   "mimetype": "text/x-python",
   "name": "python",
   "nbconvert_exporter": "python",
   "pygments_lexer": "ipython3",
   "version": "3.10.16"
  }
 },
 "nbformat": 4,
 "nbformat_minor": 5
}
