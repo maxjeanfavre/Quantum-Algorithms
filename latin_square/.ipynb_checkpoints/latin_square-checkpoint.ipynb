{
 "cells": [
  {
   "cell_type": "code",
   "execution_count": 1,
   "id": "7b57d645-7f9c-4884-a604-91670ef3d598",
   "metadata": {},
   "outputs": [],
   "source": [
    "%reset -f"
   ]
  },
  {
   "cell_type": "code",
   "execution_count": 2,
   "id": "62695ad4",
   "metadata": {},
   "outputs": [],
   "source": [
    "import matplotlib.pyplot as plt\n",
    "from qiskit.visualization import plot_histogram\n",
    "\n",
    "from grover import create_circuit, implement_grover, simulate_all_and_extract, optimal_grover_iterations, count_possibilities_and_solutions\n",
    "from math import ceil, log2, floor, pi, sqrt"
   ]
  },
  {
   "cell_type": "code",
   "execution_count": 3,
   "id": "4d5fe003",
   "metadata": {},
   "outputs": [
    {
     "name": "stdout",
     "output_type": "stream",
     "text": [
      "Grid shape: 3*2, k=2 bits/cell, total qubits=25\n",
      "14\n"
     ]
    }
   ],
   "source": [
    "# Choose your dimensions and (semi-filled) grid here: (Avoid n*m = 2 because half of the space is solution and and grover algo isn't able to find solution for such system)\n",
    "grid = [\n",
    "    [None, None],\n",
    "    [None, None],\n",
    "    [None, None]\n",
    "]\n",
    "\n",
    "qc, qr, idx = create_circuit(grid)\n",
    "print(f\"Grid shape: {idx.n}*{idx.m}, k={idx.k} bits/cell, total qubits={idx.total_qubits}\")\n",
    "\n",
    "\n",
    "\n",
    "print(floor((pi / 4) * sqrt(2**12 / 12)))\n"
   ]
  },
  {
   "cell_type": "code",
   "execution_count": 4,
   "id": "950ca03a",
   "metadata": {},
   "outputs": [
    {
     "name": "stdout",
     "output_type": "stream",
     "text": [
      "14\n",
      "CPU times: total: 3h 9min 26s\n",
      "Wall time: 25min 9s\n"
     ]
    }
   ],
   "source": [
    "%%time\n",
    "#r, tot_pos, tot_sol = count_possibilities_and_solutions(idx.grid)\n",
    "r=14\n",
    "print(r)\n",
    "\n",
    "implement_grover(qc, qr, idx, iterations=r)\n",
    "results = simulate_all_and_extract(qc, qr, idx, 'statevector', shots=1024)\n"
   ]
  },
  {
   "cell_type": "code",
   "execution_count": 5,
   "id": "2e1aff52",
   "metadata": {},
   "outputs": [
    {
     "name": "stdout",
     "output_type": "stream",
     "text": [
      "[(1, 0), (2, 1), (0, 2)] → 81\n",
      "[(1, 0), (0, 2), (2, 1)] → 75\n",
      "[(2, 0), (0, 1), (1, 2)] → 90\n",
      "[(2, 1), (0, 2), (1, 0)] → 79\n",
      "[(1, 2), (0, 1), (2, 0)] → 99\n",
      "[(2, 0), (1, 2), (0, 1)] → 94\n",
      "[(0, 1), (2, 0), (1, 2)] → 92\n",
      "[(0, 1), (1, 2), (2, 0)] → 88\n",
      "[(0, 2), (1, 0), (2, 1)] → 76\n",
      "[(1, 2), (2, 0), (0, 1)] → 69\n",
      "[(2, 1), (1, 0), (0, 2)] → 85\n",
      "[(0, 2), (2, 1), (1, 0)] → 96\n"
     ]
    },
    {
     "data": {
      "image/png": "[encoded data removed]",
      "text/plain": [
       "<Figure size 600x400 with 1 Axes>"
      ]
     },
     "metadata": {},
     "output_type": "display_data"
    }
   ],
   "source": [
    "# Helper to pretty-print each flat tuple as an n*m grid\n",
    "def tuple_to_grid(tup, n, m):\n",
    "    return [ tup[i*m:(i+1)*m] for i in range(n) ]\n",
    "\n",
    "# Prepare labels and counts\n",
    "labels = [ str(tuple_to_grid(state, idx.n, idx.m)) for state in results ]\n",
    "values = [ results[state] for state in results ]\n",
    "\n",
    "for lbl, cnt in zip(labels, values):\n",
    "    print(f\"{lbl} → {cnt}\")\n",
    "\n",
    "# Bar chart\n",
    "plt.figure(figsize=(6,4))\n",
    "plt.bar(labels, values)\n",
    "plt.xlabel('Grid configuration')\n",
    "plt.ylabel('Counts')\n",
    "plt.title('Grover outcome over 1,024 shots')\n",
    "plt.xticks(rotation=45, ha='right')\n",
    "plt.tight_layout()\n",
    "plt.show()\n"
   ]
  },
  {
   "cell_type": "code",
   "execution_count": 6,
   "id": "b73ecba0",
   "metadata": {
    "editable": true,
    "slideshow": {
     "slide_type": ""
    },
    "tags": []
   },
   "outputs": [
    {
     "name": "stdout",
     "output_type": "stream",
     "text": [
      "Count = 81\n",
      "+---+---+\n",
      "| 1 | 0 |\n",
      "+---+---+\n",
      "| 2 | 1 |\n",
      "+---+---+\n",
      "| 0 | 2 |\n",
      "+---+---+\n",
      "\n",
      "Count = 75\n",
      "+---+---+\n",
      "| 1 | 0 |\n",
      "+---+---+\n",
      "| 0 | 2 |\n",
      "+---+---+\n",
      "| 2 | 1 |\n",
      "+---+---+\n",
      "\n",
      "Count = 90\n",
      "+---+---+\n",
      "| 2 | 0 |\n",
      "+---+---+\n",
      "| 0 | 1 |\n",
      "+---+---+\n",
      "| 1 | 2 |\n",
      "+---+---+\n",
      "\n",
      "Count = 79\n",
      "+---+---+\n",
      "| 2 | 1 |\n",
      "+---+---+\n",
      "| 0 | 2 |\n",
      "+---+---+\n",
      "| 1 | 0 |\n",
      "+---+---+\n",
      "\n",
      "Count = 99\n",
      "+---+---+\n",
      "| 1 | 2 |\n",
      "+---+---+\n",
      "| 0 | 1 |\n",
      "+---+---+\n",
      "| 2 | 0 |\n",
      "+---+---+\n",
      "\n",
      "Count = 94\n",
      "+---+---+\n",
      "| 2 | 0 |\n",
      "+---+---+\n",
      "| 1 | 2 |\n",
      "+---+---+\n",
      "| 0 | 1 |\n",
      "+---+---+\n",
      "\n",
      "Count = 92\n",
      "+---+---+\n",
      "| 0 | 1 |\n",
      "+---+---+\n",
      "| 2 | 0 |\n",
      "+---+---+\n",
      "| 1 | 2 |\n",
      "+---+---+\n",
      "\n",
      "Count = 88\n",
      "+---+---+\n",
      "| 0 | 1 |\n",
      "+---+---+\n",
      "| 1 | 2 |\n",
      "+---+---+\n",
      "| 2 | 0 |\n",
      "+---+---+\n",
      "\n",
      "Count = 76\n",
      "+---+---+\n",
      "| 0 | 2 |\n",
      "+---+---+\n",
      "| 1 | 0 |\n",
      "+---+---+\n",
      "| 2 | 1 |\n",
      "+---+---+\n",
      "\n",
      "Count = 69\n",
      "+---+---+\n",
      "| 1 | 2 |\n",
      "+---+---+\n",
      "| 2 | 0 |\n",
      "+---+---+\n",
      "| 0 | 1 |\n",
      "+---+---+\n",
      "\n",
      "Count = 85\n",
      "+---+---+\n",
      "| 2 | 1 |\n",
      "+---+---+\n",
      "| 1 | 0 |\n",
      "+---+---+\n",
      "| 0 | 2 |\n",
      "+---+---+\n",
      "\n",
      "Count = 96\n",
      "+---+---+\n",
      "| 0 | 2 |\n",
      "+---+---+\n",
      "| 2 | 1 |\n",
      "+---+---+\n",
      "| 1 | 0 |\n",
      "+---+---+\n",
      "\n"
     ]
    }
   ],
   "source": [
    "\n",
    "def pretty_print_grids(results, n, m):\n",
    "    def format_grid(state):\n",
    "        rows = [state[i*m:(i+1)*m] for i in range(n)]\n",
    "        # column width based on widest entry\n",
    "        col_width = max(len(str(x)) for row in rows for x in row) + 2\n",
    "        sep = \"+\" + \"+\".join(\"-\"*col_width for _ in range(m)) + \"+\"\n",
    "        lines = [sep]\n",
    "        for row in rows:\n",
    "            line = \"|\"\n",
    "            for x in row:\n",
    "                line += str(x).center(col_width) + \"|\"\n",
    "            lines.append(line)\n",
    "            lines.append(sep)\n",
    "        return \"\\n\".join(lines)\n",
    "\n",
    "    for state, cnt in results.items():\n",
    "        print(f\"Count = {cnt}\")\n",
    "        print(format_grid(state))\n",
    "        print()\n",
    "\n",
    "pretty_print_grids(results, idx.n, idx.m)"
   ]
  },
  {
   "cell_type": "code",
   "execution_count": null,
   "id": "bee61020-1e4a-4691-9ca0-007ab4ac4ad1",
   "metadata": {},
   "outputs": [],
   "source": []
  }
 ],
 "metadata": {
  "kernelspec": {
   "display_name": "Python 3 (ipykernel)",
   "language": "python",
   "name": "python3"
  },
  "language_info": {
   "codemirror_mode": {
    "name": "ipython",
    "version": 3
   },
   "file_extension": ".py",
   "mimetype": "text/x-python",
   "name": "python",
   "nbconvert_exporter": "python",
   "pygments_lexer": "ipython3",
   "version": "3.10.16"
  }
 },
 "nbformat": 4,
 "nbformat_minor": 5
}
