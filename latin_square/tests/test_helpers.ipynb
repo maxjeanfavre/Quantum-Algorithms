{
 "cells": [
  {
   "cell_type": "code",
   "execution_count": 32,
   "id": "4e80989f",
   "metadata": {},
   "outputs": [],
   "source": [
    "# Manually add the root path before running the test\n",
    "import sys, os\n",
    "sys.path.append(os.path.dirname(os.getcwd()))\n",
    "from utils.helpers import (\n",
    "    xor_into,\n",
    "    packetised_and,\n",
    "    compare_kbit_less,\n",
    "    compare_kbit_equal,\n",
    "    Indexer\n",
    ")\n"
   ]
  },
  {
   "cell_type": "code",
   "execution_count": 33,
   "id": "a014d19d",
   "metadata": {},
   "outputs": [],
   "source": [
    "# Cell 1: Imports and utility functions\n",
    "from qiskit import QuantumCircuit\n",
    "from qiskit_aer import AerSimulator\n",
    "from math import ceil, log2\n",
    "\n",
    "def simulate(qc):\n",
    "    \"\"\"Run the quantum circuit on the AerSimulator.\"\"\"\n",
    "    simulator = AerSimulator()\n",
    "    qc.save_statevector()\n",
    "    job = simulator.run(qc)  # FIX: Pass the circuit as an argument\n",
    "    result = job.result()\n",
    "    statevector = result.data()[\"statevector\"]\n",
    "    return statevector.probabilities_dict()\n",
    "\n",
    "def print_basis_outcome(qc, description=\"\"):\n",
    "    \"\"\"Print the computational basis state with the highest probability.\"\"\"\n",
    "    outcome = simulate(qc)\n",
    "    max_state = max(outcome, key=outcome.get)\n",
    "    print(f\"{description}\\n{'=' * len(description)}\")\n",
    "    print(f\"Most probable outcome: {max_state} → {outcome[max_state]:.3f}\")\n"
   ]
  },
  {
   "cell_type": "code",
   "execution_count": 34,
   "id": "32301076",
   "metadata": {},
   "outputs": [
    {
     "name": "stdout",
     "output_type": "stream",
     "text": [
      "Test XOR into (single qubit)\n",
      "============================\n",
      "Most probable outcome: 11 → 1.000\n"
     ]
    }
   ],
   "source": [
    "# Test XOR into (single qubit)\n",
    "def test_xor_single():\n",
    "    qc = QuantumCircuit(2)\n",
    "    qc.x(1)  # Initialize control to 1\n",
    "    xor_into(qc, 0, 1)  # t += c\n",
    "    print_basis_outcome(qc, \"Test XOR into (single qubit)\")\n",
    "\n",
    "test_xor_single()\n"
   ]
  },
  {
   "cell_type": "code",
   "execution_count": 35,
   "id": "a37e4ac8",
   "metadata": {},
   "outputs": [
    {
     "name": "stdout",
     "output_type": "stream",
     "text": [
      "Test XOR into (register)\n",
      "========================\n",
      "Most probable outcome: 0100 → 1.000\n"
     ]
    }
   ],
   "source": [
    "def test_xor_register():\n",
    "    qc = QuantumCircuit(4)\n",
    "    qc.x(0)  # Initialize control qubits to 1010\n",
    "    qc.x(2)\n",
    "    xor_into(qc, [0,1], [2,3])  # Bitwise XOR\n",
    "    print_basis_outcome(qc, \"Test XOR into (register)\")\n",
    "\n",
    "test_xor_register()\n"
   ]
  },
  {
   "cell_type": "code",
   "execution_count": 36,
   "id": "d6558b9c",
   "metadata": {},
   "outputs": [
    {
     "data": {
      "text/html": [
       "<pre style=\"word-wrap: normal;white-space: pre;background: #fff0;line-height: 1.1;font-family: &quot;Courier New&quot;,Courier,monospace\">           \n",
       " q_0: ──■──\n",
       "        │  \n",
       " q_1: ──■──\n",
       "        │  \n",
       " q_2: ──■──\n",
       "        │  \n",
       " q_3: ──┼──\n",
       "      ┌─┴─┐\n",
       " q_4: ┤ X ├\n",
       "      └───┘\n",
       " q_5: ─────\n",
       "           \n",
       " q_6: ─────\n",
       "           \n",
       " q_7: ─────\n",
       "           \n",
       " q_8: ─────\n",
       "           \n",
       " q_9: ─────\n",
       "           \n",
       "q_10: ─────\n",
       "           \n",
       "q_11: ─────\n",
       "           \n",
       "q_12: ─────\n",
       "           </pre>"
      ],
      "text/plain": [
       "           \n",
       " q_0: ──■──\n",
       "        │  \n",
       " q_1: ──■──\n",
       "        │  \n",
       " q_2: ──■──\n",
       "        │  \n",
       " q_3: ──┼──\n",
       "      ┌─┴─┐\n",
       " q_4: ┤ X ├\n",
       "      └───┘\n",
       " q_5: ─────\n",
       "           \n",
       " q_6: ─────\n",
       "           \n",
       " q_7: ─────\n",
       "           \n",
       " q_8: ─────\n",
       "           \n",
       " q_9: ─────\n",
       "           \n",
       "q_10: ─────\n",
       "           \n",
       "q_11: ─────\n",
       "           \n",
       "q_12: ─────\n",
       "           "
      ]
     },
     "execution_count": 36,
     "metadata": {},
     "output_type": "execute_result"
    }
   ],
   "source": [
    "from qiskit import QuantumCircuit\n",
    "\n",
    "# Initialize the indexer with ancillas\n",
    "idx = Indexer(n=2, num_anc=5)\n",
    "\n",
    "# Create a quantum circuit with enough qubits\n",
    "qc = QuantumCircuit(idx.total_qubits)\n",
    "\n",
    "# Multi-controlled Toffoli (with 3 controls)\n",
    "controls = [0, 1, 2]  # Indices of control qubits\n",
    "target = 4             # Index of the target qubit\n",
    "qc.mcx(controls, target)\n",
    "\n",
    "qc.draw(\"text\")\n",
    "\n"
   ]
  },
  {
   "cell_type": "code",
   "execution_count": 39,
   "id": "a1bc6bbe",
   "metadata": {},
   "outputs": [
    {
     "name": "stdout",
     "output_type": "stream",
     "text": [
      "\n",
      "\n",
      "Most probable outcome: 101 → 1.000\n"
     ]
    }
   ],
   "source": [
    "# Create a quantum circuit\n",
    "qc = QuantumCircuit(3)\n",
    "\n",
    "qc.x(0)\n",
    "#qc.x(1)\n",
    "\n",
    "# Compare the value in x_bits with const_n = 3\n",
    "compare_kbit_less(qc, [0,1], const_n=2, target_flag=2)\n",
    "\n",
    "print_basis_outcome(qc, \"\")\n"
   ]
  },
  {
   "cell_type": "code",
   "execution_count": null,
   "id": "1dd19871",
   "metadata": {},
   "outputs": [],
   "source": []
  }
 ],
 "metadata": {
  "kernelspec": {
   "display_name": "qiskit",
   "language": "python",
   "name": "python3"
  },
  "language_info": {
   "codemirror_mode": {
    "name": "ipython",
    "version": 3
   },
   "file_extension": ".py",
   "mimetype": "text/x-python",
   "name": "python",
   "nbconvert_exporter": "python",
   "pygments_lexer": "ipython3",
   "version": "3.10.16"
  }
 },
 "nbformat": 4,
 "nbformat_minor": 5
}
