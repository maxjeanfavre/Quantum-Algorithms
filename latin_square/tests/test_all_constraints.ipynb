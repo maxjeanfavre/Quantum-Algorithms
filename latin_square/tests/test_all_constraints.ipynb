{
 "cells": [
  {
   "cell_type": "code",
   "execution_count": 17,
   "id": "8d2784d6",
   "metadata": {},
   "outputs": [],
   "source": [
    "# Manually add the root path before running the test\n",
    "import sys, os\n",
    "sys.path.append(os.path.dirname(os.getcwd()))\n",
    "from utils.helpers import (\n",
    "    comparator_less,\n",
    "    prepare_ancilla_cell_validity,\n",
    "    Indexer\n",
    ")\n"
   ]
  },
  {
   "cell_type": "code",
   "execution_count": 18,
   "id": "be0ed587",
   "metadata": {},
   "outputs": [
    {
     "name": "stdout",
     "output_type": "stream",
     "text": [
      "Total qubits: 18\n",
      "Counts for col_constraints_flag: {'000000000000100100': 1}\n"
     ]
    }
   ],
   "source": [
    "from math import ceil, log2\n",
    "from qiskit import QuantumRegister, ClassicalRegister, QuantumCircuit, transpile\n",
    "from qiskit_aer import AerSimulator\n",
    "\n",
    "from utils.helpers import Indexer\n",
    "from oracle.column_uniqueness import column_uniqueness_circuit\n",
    "from oracle.row_uniqueness import row_uniqueness_circuit\n",
    "from oracle.cell_validity import cell_validity_circuit\n",
    "\n",
    "# --- 1) PARAMETERS & GRID ---\n",
    "n = 1\n",
    "m = 3\n",
    "# every row has duplicates -> row_constraints_flag should return 1\n",
    "grid = [\n",
    "    [None, None, 2]    \n",
    "]\n",
    "\n",
    "# --- 2) SET UP INDEXER + QUBIT POOL ---\n",
    "# We need:\n",
    "#  • data: n*n*k\n",
    "#  • row_flags: n\n",
    "#  • row_constraints_flag: 1\n",
    "#  • comparator ancillas: k+1\n",
    "k = max(1, int(ceil(log2(max(n,m)))))\n",
    "num_anc = max(k + 2 + n + m, k+2*m+n-1, k+2*n+m-1)\n",
    "idx = Indexer(grid, num_anc)\n",
    "\n",
    "# One flat register for everything\n",
    "qr = QuantumRegister(idx.total_qubits, name=\"q\")\n",
    "#cr = ClassicalRegister(1, name=\"c\")   # measure only the final constraint flag\n",
    "qc = QuantumCircuit(qr, name=\"cell_validity_demo\")\n",
    "\n",
    "idx.initialize_grid(qc)\n",
    "\n",
    "# --- 4) APPLY THE ORACLE ---\n",
    "row_uniqueness_circuit(qc, qr, idx)\n",
    "column_uniqueness_circuit(qc, qr, idx)\n",
    "cell_validity_circuit(qc, qr, idx, max(n,m))\n",
    "\n",
    "# --- 5) COLLAPSE INTO GLOBAL FLAG ---\n",
    "controls = [\n",
    "    qr[idx.cell_valid_flag()],\n",
    "    qr[idx.row_flag()],\n",
    "    qr[idx.col_flag()]\n",
    "]\n",
    "global_q = qr[idx.global_flag()]\n",
    "qc.mcx(controls, global_q, ctrl_state='0'*len(controls))\n",
    "qc.x(global_q)\n",
    "\n",
    "# --- 6) MEASURE \n",
    "qc.measure_all()\n",
    "\n",
    "# --- 7) SIMULATE & PRINT RESULTS ---\n",
    "sim = AerSimulator(method=\"matrix_product_state\")\n",
    "tcirc = transpile(qc, sim, optimization_level=3)\n",
    "counts = sim.run(tcirc, shots=1).result().get_counts()\n",
    "\n",
    "print(\"Total qubits:\", qc.num_qubits)\n",
    "print(\"Counts for col_constraints_flag:\", counts)\n"
   ]
  },
  {
   "cell_type": "code",
   "execution_count": 19,
   "id": "5e14b8c9",
   "metadata": {},
   "outputs": [
    {
     "name": "stdout",
     "output_type": "stream",
     "text": [
      "Measured qubits:\n",
      " q[ 0] = 0   ⟶ data(0,0,0)\n",
      " q[ 1] = 0   ⟶ data(0,0,1)\n",
      " q[ 2] = 1   ⟶ data(0,1,0)\n",
      " q[ 3] = 0   ⟶ data(0,1,1)\n",
      " q[ 4] = 0   ⟶ data(0,2,0)\n",
      " q[ 5] = 1   ⟶ data(0,2,1)\n",
      " q[ 6] = 0   ⟶ row_flag\n",
      " q[ 7] = 0   ⟶ col_flag\n",
      " q[ 8] = 0   ⟶ cell_valid_flag\n",
      " q[ 9] = 0   ⟶ global_flag\n",
      " q[10] = 0   ⟶ ancilla(0)\n",
      " q[11] = 0   ⟶ ancilla(1)\n",
      " q[12] = 0   ⟶ ancilla(2)\n",
      " q[13] = 0   ⟶ ancilla(3)\n",
      " q[14] = 0   ⟶ ancilla(4)\n",
      " q[15] = 0   ⟶ ancilla(5)\n",
      " q[16] = 0   ⟶ ancilla(6)\n",
      " q[17] = 0   ⟶ ancilla(7)\n",
      "\n",
      "Reconstructed grid values:\n",
      " row  0: [0, 1, 2]\n",
      "\n",
      "Globalflag (q[9]) = 0\n"
     ]
    }
   ],
   "source": [
    "# --- after you’ve run and obtained `result.get_counts()` ---\n",
    "bitstring = next(iter(counts))            # e.g. '01000101…'\n",
    "# Qiskit’s bitstrings are MSB→LSB (left→right), qubit 0 is the rightmost bit\n",
    "bits      = list(map(int, bitstring[::-1]))  # now bits[i] is the value of qubit i\n",
    "\n",
    "n, m, k = idx.n, idx.m, idx.k\n",
    "\n",
    "# 1) print out each qubit’s role and its measured value\n",
    "print(\"Measured qubits:\")\n",
    "for q in range(idx.total_qubits):\n",
    "    role = idx.pretty(q)\n",
    "    print(f\" q[{q:2d}] = {bits[q]}   ⟶ {role}\")\n",
    "\n",
    "# 2) reconstruct the grid from the data‐region into a 2D list\n",
    "recovered = [[None for _ in range(m)] for _ in range(n)]\n",
    "for i in range(n):\n",
    "    for j in range(m):\n",
    "        v = 0\n",
    "        for b in range(k):\n",
    "            bitval = bits[idx.data(i, j, b)]\n",
    "            v |= (bitval << b)\n",
    "        recovered[i][j] = v\n",
    "\n",
    "# 3) print the grid row by row\n",
    "print(\"\\nReconstructed grid values:\")\n",
    "for i, row in enumerate(recovered):\n",
    "    print(f\" row {i:2d}: {row}\")\n",
    "\n",
    "# 4) check the final row‐constraint flag\n",
    "rf = idx.global_flag()\n",
    "print(f\"\\nGlobalflag (q[{rf}]) = {bits[rf]}\")\n"
   ]
  },
  {
   "cell_type": "code",
   "execution_count": null,
   "id": "24b50da0",
   "metadata": {},
   "outputs": [],
   "source": []
  }
 ],
 "metadata": {
  "kernelspec": {
   "display_name": "qiskit",
   "language": "python",
   "name": "python3"
  },
  "language_info": {
   "codemirror_mode": {
    "name": "ipython",
    "version": 3
   },
   "file_extension": ".py",
   "mimetype": "text/x-python",
   "name": "python",
   "nbconvert_exporter": "python",
   "pygments_lexer": "ipython3",
   "version": "3.10.16"
  }
 },
 "nbformat": 4,
 "nbformat_minor": 5
}
