{
 "cells": [
  {
   "cell_type": "markdown",
   "id": "bafd9a05",
   "metadata": {},
   "source": [
    "**Test column constraint:** A grid is defined at the start of the notebook, and it is verified that the column‐uniqueness oracle sets the `col_constraints_flag` to **1** whenever duplicate symbols occur in any column, and to **0** when all column are unique."
   ]
  },
  {
   "cell_type": "code",
   "execution_count": 1,
   "id": "1c56c650",
   "metadata": {},
   "outputs": [],
   "source": [
    "import sys, os\n",
    "sys.path.append(os.path.dirname(os.getcwd()))\n",
    "\n",
    "from oracle.column_uniqueness import column_uniqueness_circuit\n",
    "from utils.indexer import Indexer\n",
    "from utils.grid import pretty_print_grids\n",
    "\n",
    "from math import ceil, log2\n",
    "from qiskit import QuantumRegister, QuantumCircuit, transpile\n",
    "from qiskit_aer import AerSimulator\n"
   ]
  },
  {
   "cell_type": "code",
   "execution_count": 2,
   "id": "abce8485",
   "metadata": {},
   "outputs": [
    {
     "name": "stdout",
     "output_type": "stream",
     "text": [
      "Initial grid:\n",
      "Count = 1\n",
      "+---+---+---+---+\n",
      "| 0 | 2 | 1 | 3 |\n",
      "+---+---+---+---+\n",
      "| 2 | 1 | 3 | 1 |\n",
      "+---+---+---+---+\n",
      "\n"
     ]
    }
   ],
   "source": [
    "# Define your grid here\n",
    "grid = [\n",
    "    [0, 2, 1, 3],   \n",
    "    [2, 1, 3, 1]  \n",
    "]\n",
    "\n",
    "# Derive dimensions automatically\n",
    "n = len(grid)\n",
    "m = len(grid[0])\n",
    "\n",
    "# Print the initial grid\n",
    "flat_init = tuple(x for row in grid for x in row)\n",
    "print(\"Initial grid:\")\n",
    "pretty_print_grids({flat_init: 1}, n, m)\n"
   ]
  },
  {
   "cell_type": "code",
   "execution_count": 3,
   "id": "82fc86ce",
   "metadata": {},
   "outputs": [],
   "source": [
    "k = max(1, int(ceil(log2(max(n, m)))))\n",
    "num_anc = k + 2*m + n - 1\n",
    "idx = Indexer(grid, num_anc)\n",
    "\n",
    "qr = QuantumRegister(idx.total_qubits, name=\"q\")\n",
    "qc = QuantumCircuit(qr, name=\"row_uniqueness_demo\")\n",
    "\n",
    "# Load the pre-filled grid into data qubits\n",
    "idx.initialize_grid(qc)\n",
    "\n",
    "# Apply the column uniqueness oracle and measurement\n",
    "column_uniqueness_circuit(qc, qr, idx)\n",
    "qc.measure_all()"
   ]
  },
  {
   "cell_type": "code",
   "execution_count": 4,
   "id": "ad77aae0",
   "metadata": {},
   "outputs": [
    {
     "name": "stdout",
     "output_type": "stream",
     "text": [
      "Total qubits: 31\n",
      "Raw counts: {'0000000000000000111011011011000': 1}\n"
     ]
    }
   ],
   "source": [
    "# Simulate and collect counts\n",
    "sim = AerSimulator(method=\"matrix_product_state\")\n",
    "tcirc = transpile(qc, sim, optimization_level=3)\n",
    "result = sim.run(tcirc, shots=1).result()\n",
    "counts = result.get_counts()\n",
    "\n",
    "print(\"Total qubits:\", qc.num_qubits)\n",
    "print(\"Raw counts:\", counts)"
   ]
  },
  {
   "cell_type": "code",
   "execution_count": 5,
   "id": "51e86e26",
   "metadata": {},
   "outputs": [
    {
     "name": "stdout",
     "output_type": "stream",
     "text": [
      "Measured qubits:\n",
      " q[ 0] = 0   ⟶ data(0,0,0)\n",
      " q[ 1] = 0   ⟶ data(0,0,1)\n",
      " q[ 2] = 0   ⟶ data(0,1,0)\n",
      " q[ 3] = 1   ⟶ data(0,1,1)\n",
      " q[ 4] = 1   ⟶ data(0,2,0)\n",
      " q[ 5] = 0   ⟶ data(0,2,1)\n",
      " q[ 6] = 1   ⟶ data(0,3,0)\n",
      " q[ 7] = 1   ⟶ data(0,3,1)\n",
      " q[ 8] = 0   ⟶ data(1,0,0)\n",
      " q[ 9] = 1   ⟶ data(1,0,1)\n",
      " q[10] = 1   ⟶ data(1,1,0)\n",
      " q[11] = 0   ⟶ data(1,1,1)\n",
      " q[12] = 1   ⟶ data(1,2,0)\n",
      " q[13] = 1   ⟶ data(1,2,1)\n",
      " q[14] = 1   ⟶ data(1,3,0)\n",
      " q[15] = 0   ⟶ data(1,3,1)\n",
      " q[16] = 0   ⟶ row_flag\n",
      " q[17] = 0   ⟶ col_flag\n",
      " q[18] = 0   ⟶ cell_valid_flag\n",
      " q[19] = 0   ⟶ global_flag\n",
      " q[20] = 0   ⟶ ancilla(0)\n",
      " q[21] = 0   ⟶ ancilla(1)\n",
      " q[22] = 0   ⟶ ancilla(2)\n",
      " q[23] = 0   ⟶ ancilla(3)\n",
      " q[24] = 0   ⟶ ancilla(4)\n",
      " q[25] = 0   ⟶ ancilla(5)\n",
      " q[26] = 0   ⟶ ancilla(6)\n",
      " q[27] = 0   ⟶ ancilla(7)\n",
      " q[28] = 0   ⟶ ancilla(8)\n",
      " q[29] = 0   ⟶ ancilla(9)\n",
      " q[30] = 0   ⟶ ancilla(10)\n",
      "\n",
      "Recovered grid after oracle + measurement:\n",
      "Count = 1\n",
      "+---+---+---+---+\n",
      "| 0 | 2 | 1 | 3 |\n",
      "+---+---+---+---+\n",
      "| 2 | 1 | 3 | 1 |\n",
      "+---+---+---+---+\n",
      "\n",
      "col_constraints_flag (q[17]) = 0\n",
      "\n",
      "The grid is valid\n"
     ]
    }
   ],
   "source": [
    "# Extract the bitstring and reconstruct the grid\n",
    "bitstr = next(iter(counts))\n",
    "bits   = list(map(int, bitstr[::-1]))  # reverse so index matches qubit\n",
    "\n",
    "# Print the role and values of each measured qubit\n",
    "print(\"Measured qubits:\")\n",
    "for q in range(idx.total_qubits):\n",
    "    role = idx.pretty(q)\n",
    "    print(f\" q[{q:2d}] = {bits[q]}   ⟶ {role}\")\n",
    "\n",
    "# Reconstruct the n*m grid from data region\n",
    "recovered = [[0]*m for _ in range(n)]\n",
    "for i in range(n):\n",
    "    for j in range(m):\n",
    "        v = 0\n",
    "        for b in range(k):\n",
    "            v |= (bits[idx.data(i, j, b)] << b)\n",
    "        recovered[i][j] = v\n",
    "\n",
    "flat_rec = tuple(x for row in recovered for x in row)\n",
    "print(\"\\nRecovered grid after oracle + measurement:\")\n",
    "pretty_print_grids({flat_rec: counts[bitstr]}, n, m)\n",
    "\n",
    "# Check the final row-constraint flag and report validity\n",
    "cf = idx.col_flag()\n",
    "flag_val = bits[cf]\n",
    "print(f\"col_constraints_flag (q[{cf}]) = {flag_val}\")\n",
    "\n",
    "if flag_val == 0:\n",
    "    print(\"\\nThe grid is valid\")\n",
    "else:\n",
    "    print(\"\\nThe grid is invalid\")\n"
   ]
  }
 ],
 "metadata": {
  "kernelspec": {
   "display_name": "qiskit",
   "language": "python",
   "name": "python3"
  },
  "language_info": {
   "codemirror_mode": {
    "name": "ipython",
    "version": 3
   },
   "file_extension": ".py",
   "mimetype": "text/x-python",
   "name": "python",
   "nbconvert_exporter": "python",
   "pygments_lexer": "ipython3",
   "version": "3.10.16"
  }
 },
 "nbformat": 4,
 "nbformat_minor": 5
}
