{
 "cells": [
  {
   "cell_type": "markdown",
   "id": "18debe59",
   "metadata": {},
   "source": [
    "**Test row constraint:** A grid is defined at the start of the notebook, and it is verified that the row‐uniqueness oracle sets the `row_constraints_flag` to **1** whenever duplicate symbols occur in any row, and to **0** when all rows are unique."
   ]
  },
  {
   "cell_type": "code",
   "execution_count": 1,
   "id": "06a74ca9",
   "metadata": {},
   "outputs": [],
   "source": [
    "import sys, os\n",
    "sys.path.append(os.path.dirname(os.getcwd()))\n",
    "\n",
    "from oracle.row_uniqueness import row_uniqueness_circuit\n",
    "from utils.indexer import Indexer\n",
    "from utils.grid import pretty_print_grids\n",
    "\n",
    "from math import ceil, log2\n",
    "from qiskit import QuantumRegister, QuantumCircuit, transpile\n",
    "from qiskit_aer import AerSimulator\n"
   ]
  },
  {
   "cell_type": "code",
   "execution_count": 2,
   "id": "78c9b0df",
   "metadata": {},
   "outputs": [
    {
     "name": "stdout",
     "output_type": "stream",
     "text": [
      "Initial grid:\n",
      "Count = 1\n",
      "+---+---+---+---+---+\n",
      "| 6 | 4 | 5 | 1 | 3 |\n",
      "+---+---+---+---+---+\n",
      "| 4 | 1 | 5 | 6 | 3 |\n",
      "+---+---+---+---+---+\n",
      "\n"
     ]
    }
   ],
   "source": [
    "# Define your grid here\n",
    "grid = [\n",
    "    [6, 4, 5, 1, 3],\n",
    "    [4, 1, 5, 6, 3],\n",
    "]\n",
    "\n",
    "# Derive dimensions automatically\n",
    "n = len(grid)\n",
    "m = len(grid[0])\n",
    "\n",
    "# Print the initial grid\n",
    "flat_init = tuple(x for row in grid for x in row)\n",
    "print(\"Initial grid:\")\n",
    "pretty_print_grids({flat_init: 1}, n, m)\n"
   ]
  },
  {
   "cell_type": "code",
   "execution_count": 3,
   "id": "01170f08",
   "metadata": {},
   "outputs": [],
   "source": [
    "k = max(1, int(ceil(log2(max(n, m)))))\n",
    "num_anc = k + 2*m + n - 1\n",
    "idx = Indexer(grid, num_anc)\n",
    "\n",
    "qr = QuantumRegister(idx.total_qubits, name=\"q\")\n",
    "qc = QuantumCircuit(qr, name=\"row_uniqueness_demo\")\n",
    "\n",
    "# Load the pre-filled grid into data qubits\n",
    "idx.initialize_grid(qc)\n",
    "\n",
    "# Apply the row uniqueness oracle and measurement\n",
    "row_uniqueness_circuit(qc, qr, idx)\n",
    "qc.measure_all()"
   ]
  },
  {
   "cell_type": "code",
   "execution_count": 4,
   "id": "a6a6d3a3",
   "metadata": {},
   "outputs": [
    {
     "name": "stdout",
     "output_type": "stream",
     "text": [
      "Total qubits: 48\n",
      "Raw counts: {'000000000000000000011110101001100011001101100110': 1}\n"
     ]
    }
   ],
   "source": [
    "# Simulate and collect counts\n",
    "sim = AerSimulator(method=\"matrix_product_state\")\n",
    "tcirc = transpile(qc, sim, optimization_level=3)\n",
    "result = sim.run(tcirc, shots=1).result()\n",
    "counts = result.get_counts()\n",
    "\n",
    "print(\"Total qubits:\", qc.num_qubits)\n",
    "print(\"Raw counts:\", counts)"
   ]
  },
  {
   "cell_type": "code",
   "execution_count": 5,
   "id": "7445c4ee",
   "metadata": {},
   "outputs": [
    {
     "name": "stdout",
     "output_type": "stream",
     "text": [
      "Measured qubits:\n",
      " q[ 0] = 0   ⟶ data(0,0,0)\n",
      " q[ 1] = 1   ⟶ data(0,0,1)\n",
      " q[ 2] = 1   ⟶ data(0,0,2)\n",
      " q[ 3] = 0   ⟶ data(0,1,0)\n",
      " q[ 4] = 0   ⟶ data(0,1,1)\n",
      " q[ 5] = 1   ⟶ data(0,1,2)\n",
      " q[ 6] = 1   ⟶ data(0,2,0)\n",
      " q[ 7] = 0   ⟶ data(0,2,1)\n",
      " q[ 8] = 1   ⟶ data(0,2,2)\n",
      " q[ 9] = 1   ⟶ data(0,3,0)\n",
      " q[10] = 0   ⟶ data(0,3,1)\n",
      " q[11] = 0   ⟶ data(0,3,2)\n",
      " q[12] = 1   ⟶ data(0,4,0)\n",
      " q[13] = 1   ⟶ data(0,4,1)\n",
      " q[14] = 0   ⟶ data(0,4,2)\n",
      " q[15] = 0   ⟶ data(1,0,0)\n",
      " q[16] = 0   ⟶ data(1,0,1)\n",
      " q[17] = 1   ⟶ data(1,0,2)\n",
      " q[18] = 1   ⟶ data(1,1,0)\n",
      " q[19] = 0   ⟶ data(1,1,1)\n",
      " q[20] = 0   ⟶ data(1,1,2)\n",
      " q[21] = 1   ⟶ data(1,2,0)\n",
      " q[22] = 0   ⟶ data(1,2,1)\n",
      " q[23] = 1   ⟶ data(1,2,2)\n",
      " q[24] = 0   ⟶ data(1,3,0)\n",
      " q[25] = 1   ⟶ data(1,3,1)\n",
      " q[26] = 1   ⟶ data(1,3,2)\n",
      " q[27] = 1   ⟶ data(1,4,0)\n",
      " q[28] = 1   ⟶ data(1,4,1)\n",
      " q[29] = 0   ⟶ data(1,4,2)\n",
      " q[30] = 0   ⟶ row_flag\n",
      " q[31] = 0   ⟶ col_flag\n",
      " q[32] = 0   ⟶ cell_valid_flag\n",
      " q[33] = 0   ⟶ global_flag\n",
      " q[34] = 0   ⟶ ancilla(0)\n",
      " q[35] = 0   ⟶ ancilla(1)\n",
      " q[36] = 0   ⟶ ancilla(2)\n",
      " q[37] = 0   ⟶ ancilla(3)\n",
      " q[38] = 0   ⟶ ancilla(4)\n",
      " q[39] = 0   ⟶ ancilla(5)\n",
      " q[40] = 0   ⟶ ancilla(6)\n",
      " q[41] = 0   ⟶ ancilla(7)\n",
      " q[42] = 0   ⟶ ancilla(8)\n",
      " q[43] = 0   ⟶ ancilla(9)\n",
      " q[44] = 0   ⟶ ancilla(10)\n",
      " q[45] = 0   ⟶ ancilla(11)\n",
      " q[46] = 0   ⟶ ancilla(12)\n",
      " q[47] = 0   ⟶ ancilla(13)\n",
      "\n",
      "Recovered grid after oracle + measurement:\n",
      "Count = 1\n",
      "+---+---+---+---+---+\n",
      "| 6 | 4 | 5 | 1 | 3 |\n",
      "+---+---+---+---+---+\n",
      "| 4 | 1 | 5 | 6 | 3 |\n",
      "+---+---+---+---+---+\n",
      "\n",
      "row_constraints_flag (q[30]) = 0\n",
      "\n",
      "The grid is valid\n"
     ]
    }
   ],
   "source": [
    "# Extract the bitstring and reconstruct the grid\n",
    "bitstr = next(iter(counts))\n",
    "bits   = list(map(int, bitstr[::-1]))  # reverse so index matches qubit\n",
    "\n",
    "# Print the role and values of each measured qubit\n",
    "print(\"Measured qubits:\")\n",
    "for q in range(idx.total_qubits):\n",
    "    role = idx.pretty(q)\n",
    "    print(f\" q[{q:2d}] = {bits[q]}   ⟶ {role}\")\n",
    "\n",
    "# Reconstruct the n*m grid from data region\n",
    "recovered = [[0]*m for _ in range(n)]\n",
    "for i in range(n):\n",
    "    for j in range(m):\n",
    "        v = 0\n",
    "        for b in range(k):\n",
    "            v |= (bits[idx.data(i, j, b)] << b)\n",
    "        recovered[i][j] = v\n",
    "\n",
    "flat_rec = tuple(x for row in recovered for x in row)\n",
    "print(\"\\nRecovered grid after oracle + measurement:\")\n",
    "pretty_print_grids({flat_rec: counts[bitstr]}, n, m)\n",
    "\n",
    "# Check the final row-constraint flag and report validity\n",
    "rf = idx.row_flag()\n",
    "flag_val = bits[rf]\n",
    "print(f\"row_constraints_flag (q[{rf}]) = {flag_val}\")\n",
    "\n",
    "if flag_val == 0:\n",
    "    print(\"\\nThe grid is valid\")\n",
    "else:\n",
    "    print(\"\\nThe grid is invalid\")\n"
   ]
  }
 ],
 "metadata": {
  "kernelspec": {
   "display_name": "qiskit",
   "language": "python",
   "name": "python3"
  },
  "language_info": {
   "codemirror_mode": {
    "name": "ipython",
    "version": 3
   },
   "file_extension": ".py",
   "mimetype": "text/x-python",
   "name": "python",
   "nbconvert_exporter": "python",
   "pygments_lexer": "ipython3",
   "version": "3.10.16"
  }
 },
 "nbformat": 4,
 "nbformat_minor": 5
}
