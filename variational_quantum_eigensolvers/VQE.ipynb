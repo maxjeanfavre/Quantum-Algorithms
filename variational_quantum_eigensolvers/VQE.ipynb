{
 "cells": [
  {
   "cell_type": "markdown",
   "id": "05fdfd9b",
   "metadata": {},
   "source": [
    "### Variational Quantum Eigensolver (VQE)?\n",
    "\n",
    "Variational Quantum Eigensolver (VQE) is a hybrid quantum–classical algorithm for finding the ground-state energy of a Hamiltonian $H$. It works by:\n",
    "\n",
    "1. Preparing a parameterized trial state $\\ket{\\psi(\\boldsymbol\\theta)}$ on a quantum processor.\n",
    "2. Measuring the expectation value  \n",
    "   \\begin{equation*}\n",
    "     E(\\boldsymbol\\theta) = \\bra{\\psi(\\boldsymbol\\theta)}\\,H\\,\\ket{\\psi(\\boldsymbol\\theta)}\n",
    "   \\end{equation*}\n",
    "3. Using a classical optimizer to update $\\boldsymbol\\theta$ so as to minimize $E(\\boldsymbol\\theta)$.  \n",
    "   By the variational principle, the minimal value of $E(\\boldsymbol\\theta)$ is an upper bound to the true ground-state energy.\n",
    "\n",
    "For a hands-on walkthrough and code examples, see the [Qiskit VQE tutorial](https://learning.quantum.ibm.com/tutorial/variational-quantum-eigensolver).  \n"
   ]
  },
  {
   "cell_type": "code",
   "execution_count": 1,
   "id": "22858416",
   "metadata": {},
   "outputs": [],
   "source": [
    "from qiskit import QuantumCircuit\n",
    "import numpy as np\n",
    "from scipy.optimize import minimize\n",
    "from qiskit.primitives import StatevectorEstimator\n",
    "from qiskit.circuit.library import TwoLocal\n",
    "from qiskit.quantum_info import SparsePauliOp, Statevector, Operator\n",
    "from qiskit.circuit import Parameter\n",
    "\n",
    "estimator = StatevectorEstimator()\n"
   ]
  },
  {
   "cell_type": "markdown",
   "id": "2df94b7d",
   "metadata": {},
   "source": [
    "### Cost Function\n",
    "\n",
    "The VQE cost function computes the expectation value of the Hamiltonian $H$ with respect to the parameterized trial state $\\ket{\\psi(\\boldsymbol\\theta)}$:\n",
    "\n",
    "\\begin{equation*}\n",
    "E(\\boldsymbol\\theta) \\;=\\; \\langle \\psi(\\boldsymbol\\theta)\\,|\\,H\\,|\\,\\psi(\\boldsymbol\\theta)\\rangle\n",
    "\\end{equation*}\n",
    "\n",
    "In our implementation, the function `cost_func_vqe(parameters, ansatz, observable, estimator)`:\n",
    "\n",
    "1. Binds `parameters` into the `ansatz` circuit $\\ket{\\psi(\\boldsymbol\\theta)}$.  \n",
    "2. Uses the Qiskit `StatevectorEstimator` to evaluate $\\langle H \\rangle$.  \n",
    "3. Returns the real part of the estimated energy, which the classical optimizer then minimizes.  \n"
   ]
  },
  {
   "cell_type": "code",
   "execution_count": 2,
   "id": "a5ec4f24",
   "metadata": {},
   "outputs": [],
   "source": [
    "def cost_func_vqe(parameters, ansatz, observable, estimator):\n",
    "    estimator_job = estimator.run([(ansatz, observable, [parameters])])\n",
    "    estimator_result = estimator_job.result()[0]\n",
    "\n",
    "    cost = estimator_result.data.evs[0]\n",
    "    return cost\n"
   ]
  },
  {
   "cell_type": "markdown",
   "id": "1b3664f0",
   "metadata": {},
   "source": [
    "### Optimization Loop\n",
    "\n",
    "The optimization loop is a classical routine that adjusts the variational parameters to minimize the measured energy. At each step, the circuit is prepared with the current parameters, the expectation value of the Hamiltonian is estimated, and the optimizer proposes a new parameter set. Gradient-free methods like COBYLA only require energy evaluations and handle noise well. \n"
   ]
  },
  {
   "cell_type": "code",
   "execution_count": 3,
   "id": "2519f405",
   "metadata": {},
   "outputs": [],
   "source": [
    "def opti_loop_vqe(cost_func_vqe, x0, ansatz, observable, estimator, method=\"COBYLA\"):\n",
    "    return minimize(cost_func_vqe, x0, args=(ansatz, observable, estimator), method=method)\n"
   ]
  },
  {
   "cell_type": "markdown",
   "id": "40a0a4bf",
   "metadata": {},
   "source": [
    "## Test Cases\n",
    "In each case we:\n",
    "1. Build or import an ansatz,\n",
    "2. Define the Hamiltonian as a SparsePauliOp,\n",
    "3. Initialize parameters,\n",
    "4. Run `opti_loop_vqe` and print the minimal eigenvalue and final statevector.\n"
   ]
  },
  {
   "cell_type": "markdown",
   "id": "59a554fd",
   "metadata": {},
   "source": [
    "### Test Case 1 — 2-Qubit Non-degenerate Hamiltonian\n",
    "\n",
    "**Hamiltonian**  \n",
    "\\begin{equation*}\n",
    "H = Z\\otimes Z \\;+\\; 2\\,X\\otimes X\n",
    "\\end{equation*}\n",
    "\n",
    "**Spectrum**  \n",
    "-3, -1, +1, +3\n",
    "\n",
    "**Expected**  \n",
    "- **Ground energy**: -3  \n",
    "- **Ground state**: $\\displaystyle \\ket{\\psi_0} = \\tfrac{1}{\\sqrt2}(\\ket{01} - \\ket{10})$  \n",
    "- VQE should converge to $\\langle H\\rangle \\approx -3$ and prepare a state close to $\\ket{\\psi_0}$.\n",
    "\n"
   ]
  },
  {
   "cell_type": "code",
   "execution_count": 4,
   "id": "af5bc11c",
   "metadata": {},
   "outputs": [
    {
     "name": "stdout",
     "output_type": "stream",
     "text": [
      "Test 1 → min eigenvalue = -2.99999998994355\n",
      "Final statevector: (0.7071+0.0000j)|01⟩ + (-0.7071+0.0000j)|10⟩\n"
     ]
    }
   ],
   "source": [
    "# 1. Build ansatz with two parameters\n",
    "θ0, θ1 = Parameter('θ0'), Parameter('θ1')\n",
    "ansatz1 = QuantumCircuit(2)\n",
    "ansatz1.ry(θ0, 0)\n",
    "ansatz1.ry(θ1, 1)\n",
    "ansatz1.cx(0, 1)\n",
    "\n",
    "# 2. Hamiltonian\n",
    "obs1 = SparsePauliOp.from_list([\n",
    "    (\"ZZ\", 1.0),\n",
    "    (\"XX\", 2.0)\n",
    "])\n",
    "\n",
    "# 3. Initial guess\n",
    "x0_1 = np.random.uniform(0, 2*np.pi, size=2)\n",
    "\n",
    "# 4. Optimize\n",
    "res1 = opti_loop_vqe(cost_func_vqe, x0_1, ansatz1, obs1, estimator)\n",
    "print(\"Test 1 → min eigenvalue =\", res1.fun)\n",
    "\n",
    "# 5. Final statevector\n",
    "param_dict = dict(zip(ansatz1.parameters, res1.x))\n",
    "final_circ = ansatz1.assign_parameters(param_dict)\n",
    "sv1 = Statevector(final_circ)\n",
    "print(\"Final statevector:\",\n",
    "      \" + \".join(f\"({amp:.4f})|{idx:02b}⟩\"\n",
    "                 for idx, amp in enumerate(sv1.data) if abs(amp)>1e-3))\n"
   ]
  },
  {
   "cell_type": "markdown",
   "id": "cc9036f0",
   "metadata": {
    "tags": [
     "parameters"
    ]
   },
   "source": [
    "### Test Case 2 — 3-Qubit Mixed-Interaction Hamiltonian using the TwoLocal ansatz\n",
    "\n",
    "**Hamiltonian**  \n",
    "\\begin{equation*}\n",
    "H = X\\otimes X\\otimes Z \\;+\\; Y\\otimes Y\\otimes Z \\;+\\; Z\\otimes Z\\otimes Z\n",
    "\\end{equation*}\n",
    "\n",
    "**Spectrum**  \n",
    "-3, -1, +1, +3\n",
    "\n",
    "**Expected**  \n",
    "- **Ground energy**: -3  \n",
    "- **Ground state**: $\\displaystyle \\ket{\\psi_0} = \\tfrac{1}{\\sqrt2}\\bigl(\\ket{010} - \\ket{100}\\bigr)$  \n",
    "- VQE should converge to $\\langle H\\rangle \\approx -3$ and prepare a state close to $\\ket{\\psi_0}$.\n"
   ]
  },
  {
   "cell_type": "code",
   "execution_count": 5,
   "id": "e97c08a5",
   "metadata": {},
   "outputs": [
    {
     "name": "stdout",
     "output_type": "stream",
     "text": [
      "Test 2 → min eigenvalue = -2.9999999868878278\n",
      "Final statevector: (-0.6731+0.2166j)|010⟩ + (0.6731-0.2166j)|100⟩\n"
     ]
    }
   ],
   "source": [
    "# 1. TwoLocal ansatz\n",
    "ansatz2 = TwoLocal(num_qubits=3,\n",
    "                   rotation_blocks=[\"rz\",\"ry\"],\n",
    "                   entanglement_blocks=\"cx\",\n",
    "                   entanglement=\"linear\",\n",
    "                   reps=1)\n",
    "\n",
    "# 2. Hamiltonian\n",
    "obs2 = SparsePauliOp.from_list([\n",
    "    (\"XXZ\", 1.0),\n",
    "    (\"YYZ\", 1.0),\n",
    "    (\"ZZZ\", 1.0)\n",
    "])\n",
    "\n",
    "# 3. Initial guess\n",
    "x0_2 = np.random.uniform(0, 2*np.pi, size=len(ansatz2.parameters))\n",
    "\n",
    "# 4. Optimize\n",
    "res2 = opti_loop_vqe(cost_func_vqe, x0_2, ansatz2, obs2, estimator)\n",
    "print(\"Test 2 → min eigenvalue =\", res2.fun)\n",
    "\n",
    "# 5. Final statevector\n",
    "param_dict = dict(zip(ansatz2.parameters, res2.x))\n",
    "sv2 = Statevector(ansatz2.assign_parameters(param_dict))\n",
    "\n",
    "print(\"Final statevector:\",\n",
    "      \" + \".join(f\"({amp:.4f})|{idx:03b}⟩\"\n",
    "                 for idx, amp in enumerate(sv2.data) if abs(amp)>1e-3))\n"
   ]
  },
  {
   "cell_type": "markdown",
   "id": "dfb24163",
   "metadata": {},
   "source": [
    "### Test case 3 - Random Hermitian matrix"
   ]
  },
  {
   "cell_type": "code",
   "execution_count": 6,
   "id": "16fc6d34",
   "metadata": {},
   "outputs": [],
   "source": [
    "def random_hermitian_matrix(n):\n",
    "    dim = 2**n\n",
    "    A = np.random.rand(dim, dim) + 1j*np.random.rand(dim, dim)\n",
    "    H = (A + A.conj().T) / 2  # Make it Hermitian\n",
    "    return H\n",
    "\n",
    "n=3\n",
    "H_matrix = random_hermitian_matrix(n)"
   ]
  },
  {
   "cell_type": "markdown",
   "id": "d127e62c",
   "metadata": {},
   "source": [
    "Solve the diagonilization classicaly using scipy.linalg"
   ]
  },
  {
   "cell_type": "code",
   "execution_count": 7,
   "id": "af18fea8",
   "metadata": {},
   "outputs": [
    {
     "name": "stdout",
     "output_type": "stream",
     "text": [
      "Minimal eigenvalue found: -0.9898308206354594\n",
      "Final statevector: (0.23902-0.00000j)|000⟩ + (-0.32550+0.28952j)|001⟩ + (0.00129+0.10827j)|010⟩ + (0.52205+0.19213j)|011⟩ + (0.03754-0.48240j)|100⟩ + (-0.19626+0.12631j)|101⟩ + (-0.31924+0.03086j)|110⟩ + (0.06018-0.19198j)|111⟩\n"
     ]
    }
   ],
   "source": [
    "from scipy.linalg import eigh\n",
    "\n",
    "classical_eigvals, classical_eigvecs = eigh(H_matrix)\n",
    "ground_energy_classical = classical_eigvals[0]\n",
    "ground_state_classical = classical_eigvecs[:, 0]\n",
    "\n",
    "print(\"Minimal eigenvalue found:\", ground_energy_classical)\n",
    "\n",
    "\n",
    "# Remove the global phase of a quantum statevector so that the first amplitude \n",
    "# is real and positive.\n",
    "def fix_global_phase(vec: np.ndarray, threshold: float = 1e-3) -> np.ndarray:\n",
    "    \"\"\"\n",
    "    Rotate the global phase so that the first amplitude with |amp|>threshold\n",
    "    becomes real and positive.\n",
    "    \"\"\"\n",
    "    v = vec.copy()\n",
    "    # find first significant index\n",
    "    for amp in v:\n",
    "        if abs(amp) > threshold:\n",
    "            phi = np.angle(amp)\n",
    "            v *= np.exp(-1j * phi)\n",
    "            if v[np.argmax(np.abs(v))].real < 0:\n",
    "                v *= -1\n",
    "            break\n",
    "    return v\n",
    "\n",
    "# Build the single-line sum\n",
    "terms = []\n",
    "for idx, amplitude in enumerate(fix_global_phase(ground_state_classical)):\n",
    "    bstr = format(idx, f'0{n}b')\n",
    "    terms.append(f\"({amplitude:.5f})|{bstr}⟩\")\n",
    "\n",
    "# Join and print the sum\n",
    "statevector_str = \" + \".join(terms)\n",
    "print(\"Final statevector:\", statevector_str)"
   ]
  },
  {
   "cell_type": "markdown",
   "id": "652b0964",
   "metadata": {},
   "source": [
    "Find the ground state and the ground energy using VQE"
   ]
  },
  {
   "cell_type": "code",
   "execution_count": 8,
   "id": "c908fd31",
   "metadata": {},
   "outputs": [
    {
     "name": "stdout",
     "output_type": "stream",
     "text": [
      "Test 3 → min eigenvalue = -0.9873263657644158\n",
      "Final statevector: (0.24538+0.00000j)|000⟩ + (-0.32126+0.27761j)|001⟩ + (-0.01020+0.08723j)|010⟩ + (0.49931+0.27033j)|011⟩ + (0.04750-0.48377j)|100⟩ + (-0.20420+0.10773j)|101⟩ + (-0.32814-0.02207j)|110⟩ + (0.07764-0.16005j)|111⟩\n"
     ]
    }
   ],
   "source": [
    "# 1. TwoLocal ansatz\n",
    "ansatz3 = TwoLocal(\n",
    "    num_qubits=n,\n",
    "    rotation_blocks=[\"rz\", \"ry\"],\n",
    "    entanglement_blocks=\"cx\",\n",
    "    entanglement=\"linear\",\n",
    "    reps=2\n",
    ")\n",
    "\n",
    "# 2. Hamiltonian in terms of Pauli operators\n",
    "obs3 = SparsePauliOp.from_operator(Operator(H_matrix))\n",
    "\n",
    "# 3. Initial guess\n",
    "x0_3 = np.random.uniform(0, 2*np.pi, size=len(ansatz3.parameters))\n",
    "\n",
    "# 4. Optimize\n",
    "res3 = opti_loop_vqe(cost_func_vqe, x0_3, ansatz3, obs3, estimator)\n",
    "print(\"Test 3 → min eigenvalue =\", res3.fun)\n",
    "\n",
    "# 5. Build final statevector and fix its global phase\n",
    "param_dict3 = dict(zip(ansatz3.parameters, res3.x))\n",
    "final_circ3 = ansatz3.assign_parameters(param_dict3)\n",
    "sv3 = Statevector(final_circ3)\n",
    "\n",
    "terms = []\n",
    "for idx, amplitude in enumerate(fix_global_phase(sv3.data)):\n",
    "    bstr = format(idx, '03b')\n",
    "    terms.append(f\"({amplitude:.5f})|{bstr}⟩\")\n",
    "statevector_str = \" + \".join(terms)\n",
    "print(\"Final statevector:\", statevector_str)\n"
   ]
  },
  {
   "cell_type": "markdown",
   "id": "33ca29f9",
   "metadata": {},
   "source": [
    "Comparison with the classical results"
   ]
  },
  {
   "cell_type": "code",
   "execution_count": 11,
   "id": "8cdf4313",
   "metadata": {},
   "outputs": [
    {
     "name": "stdout",
     "output_type": "stream",
     "text": [
      "Classical ground energy:  -0.9898308206354594\n",
      "VQE ground energy:  -0.9873263657644158\n",
      "\n",
      "||φ_c – φ_VQE|| = 0.110102\n"
     ]
    }
   ],
   "source": [
    "print(\"Classical ground energy: \", ground_energy_classical)\n",
    "print(\"VQE ground energy: \", res3.fun)\n",
    "\n",
    "# Compute and print the norm difference\n",
    "diff = np.linalg.norm(fix_global_phase(ground_state_classical) - fix_global_phase(sv3.data))\n",
    "print(f\"\\n||φ_c – φ_VQE|| = {diff:.6f}\")\n"
   ]
  },
  {
   "cell_type": "code",
   "execution_count": null,
   "id": "65083805",
   "metadata": {},
   "outputs": [],
   "source": []
  }
 ],
 "metadata": {
  "kernelspec": {
   "display_name": "qiskit",
   "language": "python",
   "name": "python3"
  },
  "language_info": {
   "codemirror_mode": {
    "name": "ipython",
    "version": 3
   },
   "file_extension": ".py",
   "mimetype": "text/x-python",
   "name": "python",
   "nbconvert_exporter": "python",
   "pygments_lexer": "ipython3",
   "version": "3.10.16"
  }
 },
 "nbformat": 4,
 "nbformat_minor": 5
}
