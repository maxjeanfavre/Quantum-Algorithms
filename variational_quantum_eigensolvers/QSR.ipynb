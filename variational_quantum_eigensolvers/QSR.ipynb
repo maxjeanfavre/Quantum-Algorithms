{
 "cells": [
  {
   "cell_type": "markdown",
   "id": "e5608976",
   "metadata": {},
   "source": [
    "# Quantum Sampling Regression (QSR)\n",
    "\n",
    "QSR trades extra classical post-processing (Fourier-regression) for a **single** batch of quantum evaluations.  \n",
    "Instead of iteratively calling VQE, it samples the cost\n",
    "\\begin{equation*}\n",
    "  C(\\boldsymbol\\theta)=\\langle\\psi(\\boldsymbol\\theta)|\\hat H|\\psi(\\boldsymbol\\theta)\\rangle\n",
    "\\end{equation*}\n",
    "at a carefully chosen set of parameter points, fit its unknown Fourier coefficients\n",
    "$\\{a_0,a_k,b_k\\}$ by least-squares, then find the global minimum.  \n",
    "This approach requires only a single batch of quantum executions, after which all further processing is done classically—eliminating the need for repeated quantum–classical loops.\n",
    "\n",
    "More informations can be found in the Qiskit course [Qiskit QSR](https://learning.quantum.ibm.com/course/variational-algorithm-design/instances-and-extensions#quantum-sampling-regression-qsr) and in the original paper [An optimal quantum sampling regression algorithm for variational eigensolving in the low qubit number regime](https://arxiv.org/abs/2012.02338)."
   ]
  },
  {
   "cell_type": "code",
   "execution_count": 1,
   "id": "fd18e72f",
   "metadata": {},
   "outputs": [],
   "source": [
    "from qiskit import QuantumCircuit\n",
    "import numpy as np\n",
    "from scipy.optimize import minimize\n",
    "from qiskit.primitives import StatevectorEstimator\n",
    "from qiskit.circuit.library import TwoLocal\n",
    "from qiskit.quantum_info import SparsePauliOp, Statevector, Operator\n",
    "from qiskit.circuit import Parameter\n",
    "import itertools\n",
    "\n",
    "estimator = StatevectorEstimator()"
   ]
  },
  {
   "cell_type": "code",
   "execution_count": 2,
   "id": "9aaeb2d3",
   "metadata": {},
   "outputs": [],
   "source": [
    "def cost_func_qsr(parameters, ansatz, observable, estimator):\n",
    "    estimator_job = estimator.run([(ansatz, observable, [parameters])])\n",
    "    estimator_result = estimator_job.result()[0]\n",
    "\n",
    "    cost = estimator_result.data.evs[0]\n",
    "    return cost"
   ]
  },
  {
   "cell_type": "code",
   "execution_count": 3,
   "id": "1ac0e4bd",
   "metadata": {},
   "outputs": [],
   "source": [
    "def estimate_bandwidth_from_circuit(circuit):\n",
    "    \"\"\"\n",
    "    Estimate the Fourier bandwidth S from a manually defined circuit.\n",
    "    Works directly without decomposition.\n",
    "    \"\"\"\n",
    "    S = 0\n",
    "    entanglement_present = False\n",
    "\n",
    "    for instr in circuit.data:\n",
    "        name = instr.operation.name.lower()\n",
    "\n",
    "        if name in ['rx', 'ry', 'rz']:\n",
    "            S += 1\n",
    "        elif name in ['cx', 'cz', 'iswap', 'cy']:\n",
    "            entanglement_present = True\n",
    "\n",
    "    if entanglement_present:\n",
    "        S = max(2*S, S+1)\n",
    "\n",
    "    return max(S, 1)\n"
   ]
  },
  {
   "cell_type": "code",
   "execution_count": 4,
   "id": "fb9092d0",
   "metadata": {},
   "outputs": [],
   "source": [
    "def sampler_qsr(parameters_list, ansatz, observable, estimator):\n",
    "    \"\"\"\n",
    "    Sample the cost function over a list of parameter vectors.\n",
    "    \n",
    "    Args:\n",
    "        parameters_list: list of parameter arrays (each array shape = (N_parameters,))\n",
    "        ansatz: QuantumCircuit, parameterized ansatz\n",
    "        observable: Hamiltonian (SparsePauliOp)\n",
    "        estimator: Estimator primitive (e.g., StatevectorEstimator)\n",
    "        \n",
    "    Returns:\n",
    "        cost_sampled: list of cost function values corresponding to the parameter list\n",
    "    \"\"\"\n",
    "    \n",
    "    cost_sampled = []\n",
    "    \n",
    "    for params in parameters_list:\n",
    "        # params must be an array of all θ values [θ₁, θ₂, ..., θₙ]\n",
    "        cost_value = cost_func_qsr(params, ansatz, observable, estimator)\n",
    "        cost_sampled.append(cost_value)\n",
    "\n",
    "    return cost_sampled\n"
   ]
  },
  {
   "cell_type": "markdown",
   "id": "4b7ef8ab",
   "metadata": {},
   "source": [
    "### Classical function to post-process the samples"
   ]
  },
  {
   "cell_type": "code",
   "execution_count": 5,
   "id": "260e51de",
   "metadata": {},
   "outputs": [],
   "source": [
    "def build_F_matrix(theta_samples, max_harmonic):\n",
    "    theta_samples = np.array(theta_samples)\n",
    "    N_samples, N_parameters = theta_samples.shape\n",
    "    \n",
    "    # Generate all combinations of frequencies for each parameter\n",
    "    freq_range = list(range(0, max_harmonic + 1))  # 0,1,...,S\n",
    "    all_freqs = list(itertools.product(freq_range, repeat=N_parameters))\n",
    "    \n",
    "    # Remove the trivial case where all frequencies are 0\n",
    "    all_freqs.remove((0,) * N_parameters)\n",
    "    \n",
    "    # Initialize the F matrix\n",
    "    N_basis = 1 + 2 * len(all_freqs)  # 1 constant + 2 (cos and sin) for each frequency combo\n",
    "    F = np.zeros((N_samples, N_basis))\n",
    "    \n",
    "    # First column = constant term\n",
    "    F[:, 0] = 1.0\n",
    "\n",
    "    # Fill the F matrix\n",
    "    for i, freqs in enumerate(all_freqs):\n",
    "        # Compute the dot product k · theta for each sample\n",
    "        argument = np.sum(freqs * theta_samples, axis=1)  # shape (N_samples,)\n",
    "        \n",
    "        F[:, 2*i + 1] = np.cos(argument)  # cosine term\n",
    "        F[:, 2*i + 2] = np.sin(argument)  # sine term\n",
    "        \n",
    "    return F, all_freqs\n"
   ]
  },
  {
   "cell_type": "code",
   "execution_count": 6,
   "id": "93c1a013",
   "metadata": {},
   "outputs": [],
   "source": [
    "def solve_fourier_coefficients(theta_samples, h_samples, max_harmonic):\n",
    "    F, all_freqs = build_F_matrix(theta_samples, max_harmonic)\n",
    "    h_samples = np.array(h_samples)\n",
    "    \n",
    "    # Solve least squares: minimize || F c - h ||\n",
    "    c, residuals, rank, s = np.linalg.lstsq(F, h_samples, rcond=None)\n",
    "    \n",
    "    return c, all_freqs"
   ]
  },
  {
   "cell_type": "code",
   "execution_count": 7,
   "id": "d22e7ac0",
   "metadata": {},
   "outputs": [],
   "source": [
    "def reconstructed_h(theta, coefficients, all_freqs):\n",
    "    theta = np.array(theta)\n",
    "    h = coefficients[0]  # constant term\n",
    "\n",
    "    for i, freqs in enumerate(all_freqs):\n",
    "        argument = np.dot(freqs, theta)  # dot product\n",
    "        h += coefficients[2*i + 1] * np.cos(argument)\n",
    "        h += coefficients[2*i + 2] * np.sin(argument)\n",
    "    \n",
    "    return h\n",
    "\n"
   ]
  },
  {
   "cell_type": "code",
   "execution_count": 8,
   "id": "e30800cd",
   "metadata": {},
   "outputs": [],
   "source": [
    "def find_global_minimum(coefficients, all_freqs):\n",
    "    N_parameters = len(all_freqs[0])  # inferred from freq tuples\n",
    "    \n",
    "    # Initial guess: center of the domain\n",
    "    x0 = np.full(N_parameters, np.pi)\n",
    "\n",
    "    # Bounds: θ ∈ [0, 2π] for each parameter\n",
    "    bounds = [(0, 2*np.pi) for _ in range(N_parameters)]\n",
    "\n",
    "    # Minimize\n",
    "    result = minimize(\n",
    "        lambda theta: reconstructed_h(theta, coefficients, all_freqs),\n",
    "        x0=x0,\n",
    "        bounds=bounds,\n",
    "        method='L-BFGS-B'  # Good for bounded smooth problems\n",
    "    )\n",
    "    \n",
    "    theta_min = result.x\n",
    "    h_min = result.fun\n",
    "    return theta_min, h_min"
   ]
  },
  {
   "cell_type": "markdown",
   "id": "5fdbace9",
   "metadata": {},
   "source": [
    "### Global function to run he QSR algorithm"
   ]
  },
  {
   "cell_type": "code",
   "execution_count": 9,
   "id": "2f3982c1",
   "metadata": {},
   "outputs": [],
   "source": [
    "def run_qsr(ansatz, hamiltonian, S, estimator):\n",
    "    # 1) estimate max harmonic\n",
    "    # S = estimate_bandwidth_from_circuit(ansatz)\n",
    "\n",
    "    # 2) build the multi-D grid of theta-points\n",
    "    num_params = len(ansatz.parameters)\n",
    "    M = 2*S + 1\n",
    "    ranges = [np.linspace(0, 2*np.pi, M, endpoint=False) for _ in range(num_params)]\n",
    "    mesh   = np.meshgrid(*ranges, indexing='ij')\n",
    "    thetas = np.stack([m.flatten() for m in mesh], axis=-1)  # shape (M^n, n)\n",
    "\n",
    "    # 3) quantum sampling\n",
    "    h_samples = sampler_qsr(thetas, ansatz, hamiltonian, estimator)\n",
    "\n",
    "    # 4) regression to get Fourier coefficients\n",
    "    coeffs, all_freqs = solve_fourier_coefficients(thetas, h_samples, S)\n",
    "\n",
    "    # 5) classical minimization of the surrogate\n",
    "    theta_min, h_min = find_global_minimum(coeffs, all_freqs)\n",
    "\n",
    "    # 6) build the final Statevector U(θ*)|0⟩\n",
    "    param_dict = {p: theta_min[i] for i, p in enumerate(ansatz.parameters)}\n",
    "    final_circ = ansatz.assign_parameters(param_dict)\n",
    "    sv_opt = Statevector(final_circ)\n",
    "\n",
    "    return h_min, sv_opt\n"
   ]
  },
  {
   "cell_type": "markdown",
   "id": "a8a6ef26",
   "metadata": {},
   "source": [
    "### Test Case 1 — 2-Qubit Non-degenerate Hamiltonian\n",
    "\n",
    "**Hamiltonian**  \n",
    "\\begin{equation*}\n",
    "H = Z\\otimes Z \\;+\\; 2\\,X\\otimes X\n",
    "\\end{equation*}\n",
    "\n",
    "**Spectrum**  \n",
    "-3, -1, +1, +3\n",
    "\n",
    "**Eigenstates**  \n",
    "- $\\displaystyle \\ket{\\psi_0} = \\frac{1}{\\sqrt2}\\bigl(\\ket{01} - \\ket{10}\\bigr)$  \n",
    "- $\\displaystyle \\ket{\\psi_1} = \\frac{1}{\\sqrt2}\\bigl(\\ket{00} - \\ket{11}\\bigr)$  \n",
    "- $\\displaystyle \\ket{\\psi_2} = \\frac{1}{\\sqrt2}\\bigl(\\ket{01} + \\ket{10}\\bigr)$  \n",
    "- $\\displaystyle \\ket{\\psi_3} = \\frac{1}{\\sqrt2}\\bigl(\\ket{00} + \\ket{11}\\bigr)$\n",
    "\n",
    "We expect to find only the ground state"
   ]
  },
  {
   "cell_type": "code",
   "execution_count": null,
   "id": "7a1bcc04",
   "metadata": {},
   "outputs": [
    {
     "name": "stdout",
     "output_type": "stream",
     "text": [
      "4\n"
     ]
    },
    {
     "name": "stdout",
     "output_type": "stream",
     "text": [
      "Test 1 QSR → eigenvalue = -3.000000\n",
      "Statevector: (0.70711+0.00000j)|01⟩ + (-0.70711+0.00000j)|10⟩\n"
     ]
    }
   ],
   "source": [
    "# 1) Build the variational ansatz (Manual construction with 2 parameters)\n",
    "theta0 = Parameter(\"θ0\")\n",
    "theta1 = Parameter(\"θ1\")\n",
    "\n",
    "ansatz1 = QuantumCircuit(2)\n",
    "ansatz1.ry(theta0, 0)\n",
    "ansatz1.ry(theta1, 1)\n",
    "ansatz1.cx(0, 1)\n",
    "\n",
    "# 2) Define the observable\n",
    "obs1 = SparsePauliOp.from_list([\n",
    "    (\"ZZ\", 1.0),\n",
    "    (\"XX\", 2.0)\n",
    "])\n",
    "\n",
    "# 3) Estimate S\n",
    "S_estimated = estimate_bandwidth_from_circuit(ansatz1)\n",
    "# print(S_estimated)\n",
    "\n",
    "# 4) Run QSR\n",
    "eigenval_qsr, sv_qsr = run_qsr(ansatz1, obs1, S_estimated, estimator)\n",
    "\n",
    "# 5) Fix global phase & format the statevector\n",
    "\n",
    "def fix_global_phase(vec, threshold = 1e-3):\n",
    "    v = vec.copy()\n",
    "    # find first significant index\n",
    "    for amp in v:\n",
    "        if abs(amp) > threshold:\n",
    "            phi = np.angle(amp)\n",
    "            v *= np.exp(-1j * phi)\n",
    "            if v[np.argmax(np.abs(v))].real < 0:\n",
    "                v *= -1\n",
    "            break\n",
    "    return v\n",
    "\n",
    "vec = fix_global_phase(sv_qsr.data)\n",
    "threshold = 1e-3\n",
    "terms = [\n",
    "    f\"({amp:.5f})|{format(idx, '02b')}⟩\"\n",
    "    for idx, amp in enumerate(vec)\n",
    "    if abs(amp) > threshold\n",
    "]\n",
    "\n",
    "# 6) Print results\n",
    "print(f\"Test 1 QSR → eigenvalue = {eigenval_qsr:.6f}\")\n",
    "print(\"Statevector:\", \" + \".join(terms))\n"
   ]
  },
  {
   "cell_type": "markdown",
   "id": "01e2e3dc",
   "metadata": {},
   "source": [
    "QSR struggled on larger-qubit problems because our ansatz couldn’t span correctly the space. A simpler, more targeted ansatz that still covers the right eigenstates may make one-shot QSR practical for bigger systems."
   ]
  }
 ],
 "metadata": {
  "kernelspec": {
   "display_name": "qiskit",
   "language": "python",
   "name": "python3"
  },
  "language_info": {
   "codemirror_mode": {
    "name": "ipython",
    "version": 3
   },
   "file_extension": ".py",
   "mimetype": "text/x-python",
   "name": "python",
   "nbconvert_exporter": "python",
   "pygments_lexer": "ipython3",
   "version": "3.10.16"
  }
 },
 "nbformat": 4,
 "nbformat_minor": 5
}
