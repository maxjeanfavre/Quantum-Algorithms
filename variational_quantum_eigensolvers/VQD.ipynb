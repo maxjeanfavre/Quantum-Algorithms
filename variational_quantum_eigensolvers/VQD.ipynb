{
 "cells": [
  {
   "cell_type": "markdown",
   "id": "82c83f31",
   "metadata": {},
   "source": [
    "# Variational Quantum Deflation (VQD)\n",
    "\n",
    "Variational Quantum Deflation (VQD) extends the Variational Quantum Eigensolver (VQE) so you can compute not only the ground state but also excited states. After finding the lowest eigenpair $(\\lambda_0, \\ket{\\psi_0})$, VQD “deflates” the Hamiltonian by adding a penalty term:\n",
    "\\begin{equation*}\n",
    "H^{(1)} = H \\;+\\; \\beta_0\\,\\ket{\\psi_0}\\!\\bra{\\psi_0}\n",
    "\\end{equation*}\n",
    "which raises the energy of $\\ket{\\psi_0}$ and forces the next variational optimization to converge to the first excited eigenpair $(\\lambda_1, \\ket{\\psi_1})$. You repeat this deflation step $k$ times to obtain the lowest $k$ eigenvalues and eigenstates.\n",
    "\n",
    "For a hands-on walkthrough and code examples, see the Qiskit course [Qiskit VQD](https://learning.quantum.ibm.com/course/variational-algorithm-design/instances-and-extensions#variational-quantum-deflation-vqd) and the original paper [Variational Quantum Computation of Excited States](http://dx.doi.org/10.22331/q-2019-07-01-156).\n"
   ]
  },
  {
   "cell_type": "code",
   "execution_count": 1,
   "id": "42633496",
   "metadata": {},
   "outputs": [],
   "source": [
    "from qiskit import QuantumCircuit\n",
    "import numpy as np\n",
    "from scipy.optimize import minimize\n",
    "from qiskit.primitives import StatevectorEstimator\n",
    "from qiskit.circuit.library import TwoLocal\n",
    "from qiskit.quantum_info import SparsePauliOp, Statevector, Operator\n",
    "from qiskit.circuit import Parameter\n",
    "\n",
    "estimator = StatevectorEstimator()"
   ]
  },
  {
   "cell_type": "markdown",
   "id": "32086464",
   "metadata": {},
   "source": [
    "### How we update the Hamiltonian  \n",
    "At each deflation step $i$, we take the previously found states $\\{\\ket{\\psi_0},\\dots,\\ket{\\psi_{i-1}}\\}$ and coefficients $\\{\\beta_0,\\dots,\\beta_{i-1}\\}$, and form\n",
    "\\begin{equation*}\n",
    "  H^{(i)} = H^{(0)} \\;+\\;\\sum_{j=0}^{i-1}\\beta_j\\,\\ket{\\psi_j}\\!\\bra{\\psi_j}.\n",
    "\\end{equation*}\n",
    "This “pushes up” the energies of all earlier states, so the optimizer can land on the next excitation.\n"
   ]
  },
  {
   "cell_type": "code",
   "execution_count": 2,
   "id": "c0ae9913",
   "metadata": {},
   "outputs": [],
   "source": [
    "def build_vqd_observable(observable: SparsePauliOp, previous_states: list[Statevector], beta: list[float]) -> SparsePauliOp:\n",
    "\n",
    "    if len(previous_states) != len(beta):\n",
    "        raise ValueError(\"Length of beta must match number of previous states.\")\n",
    "\n",
    "    penalty = SparsePauliOp.from_list([(\"I\" * observable.num_qubits, 0.0)])\n",
    "\n",
    "    for psi, b in zip(previous_states, beta):\n",
    "        projector = psi.to_operator()  # full matrix\n",
    "        pauli_proj = SparsePauliOp.from_operator(projector)\n",
    "        penalty += b * pauli_proj\n",
    "\n",
    "    return observable + penalty\n"
   ]
  },
  {
   "cell_type": "markdown",
   "id": "bfbb8dcd",
   "metadata": {},
   "source": [
    "We can reuse the cost function and the optimization loop from VQE using the updated hamiltonian"
   ]
  },
  {
   "cell_type": "code",
   "execution_count": 3,
   "id": "dd0ac3d6",
   "metadata": {},
   "outputs": [],
   "source": [
    "def cost_func_vqe(parameters, ansatz, observable, estimator):\n",
    "    estimator_job = estimator.run([(ansatz, observable, [parameters])])\n",
    "    estimator_result = estimator_job.result()[0]\n",
    "\n",
    "    cost = estimator_result.data.evs[0]\n",
    "    return cost\n",
    "\n",
    "def opti_loop_vqe(cost_func_vqe, x0, ansatz, observable, estimator, method=\"COBYLA\"):\n",
    "    return minimize(cost_func_vqe, x0, args=(ansatz, observable, estimator), method=method)\n"
   ]
  },
  {
   "cell_type": "code",
   "execution_count": 4,
   "id": "56355713",
   "metadata": {},
   "outputs": [],
   "source": [
    "def run_vqd(ansatz, observable, k, estimator, beta_values,\n",
    "            x0_list=None, method=\"COBYLA\"):\n",
    "    eigenvalues = []\n",
    "    previous_states = []\n",
    "\n",
    "    for i in range(k):\n",
    "        # 1. Deflated observable\n",
    "        updated_obs = build_vqd_observable(observable,\n",
    "                                           previous_states,\n",
    "                                           beta_values[:i])\n",
    "\n",
    "        # 2. Pick initial guess:\n",
    "        if x0_list is not None and len(x0_list) > i:\n",
    "            x0 = x0_list[i]\n",
    "        else:\n",
    "            x0 = np.ones(ansatz.num_parameters)\n",
    "\n",
    "        # 3. Optimize\n",
    "        result = opti_loop_vqe(cost_func_vqe, x0,\n",
    "                               ansatz, updated_obs,\n",
    "                               estimator, method)\n",
    "\n",
    "        # 4. Record\n",
    "        eigenvalues.append(result.fun)\n",
    "        previous_states.append(Statevector(ansatz.assign_parameters(result.x)))\n",
    "\n",
    "    return eigenvalues, previous_states\n"
   ]
  },
  {
   "cell_type": "markdown",
   "id": "ff02b9b5",
   "metadata": {},
   "source": [
    "### Test Case 1 — 2-Qubit Non-degenerate Hamiltonian\n",
    "\n",
    "**Hamiltonian**  \n",
    "\\begin{equation*}\n",
    "H = Z\\otimes Z \\;+\\; 2\\,X\\otimes X\n",
    "\\end{equation*}\n",
    "\n",
    "**Spectrum**  \n",
    "-3, -1, +1, +3\n",
    "\n",
    "**Eigenstates**  \n",
    "- $\\displaystyle \\ket{\\psi_0} = \\frac{1}{\\sqrt2}\\bigl(\\ket{01} - \\ket{10}\\bigr)$  \n",
    "- $\\displaystyle \\ket{\\psi_1} = \\frac{1}{\\sqrt2}\\bigl(\\ket{00} - \\ket{11}\\bigr)$  \n",
    "- $\\displaystyle \\ket{\\psi_2} = \\frac{1}{\\sqrt2}\\bigl(\\ket{01} + \\ket{10}\\bigr)$  \n",
    "- $\\displaystyle \\ket{\\psi_3} = \\frac{1}{\\sqrt2}\\bigl(\\ket{00} + \\ket{11}\\bigr)$\n",
    "\n"
   ]
  },
  {
   "cell_type": "code",
   "execution_count": 5,
   "id": "ba576ff7",
   "metadata": {},
   "outputs": [
    {
     "name": "stdout",
     "output_type": "stream",
     "text": [
      "λ = -3.000000 → (-0.70708-0.00000j)|01⟩ + (0.70713+0.00000j)|10⟩\n",
      "λ = -1.000000 → (-0.70708+0.00000j)|00⟩ + (0.70714-0.00000j)|11⟩\n",
      "λ = 1.000000 → (0.70713+0.00000j)|01⟩ + (0.70708+0.00000j)|10⟩\n",
      "λ = 3.000000 → (0.70712+0.00000j)|00⟩ + (0.70710+0.00000j)|11⟩\n"
     ]
    }
   ],
   "source": [
    "# 1. Build the 2-qubit ansatz\n",
    "θ0, θ1 = Parameter('θ0'), Parameter('θ1')\n",
    "ansatz1 = QuantumCircuit(2)\n",
    "ansatz1.ry(θ0, 0)\n",
    "ansatz1.ry(θ1, 1)\n",
    "ansatz1.cx(0, 1)\n",
    "\n",
    "# 2. Define the Hamiltonian H = Z⊗Z + 2 X⊗X\n",
    "obs1 = SparsePauliOp.from_list([\n",
    "    (\"ZZ\", 1.0),\n",
    "    (\"XX\", 2.0)\n",
    "])\n",
    "\n",
    "# 3. Run VQD for the first four eigenvalues (k=4)\n",
    "beta_vals = [10, 20, 40, 80]\n",
    "eigenvals, states = run_vqd(\n",
    "    ansatz1,\n",
    "    obs1,\n",
    "    k=4,\n",
    "    estimator=estimator,\n",
    "    beta_values=beta_vals,\n",
    "    method=\"COBYLA\"\n",
    ")\n",
    "\n",
    "# 4. Fix global phase so that the first amplitude is real & positive\n",
    "def fix_global_phase(vec: np.ndarray, threshold: float = 1e-3) -> np.ndarray:\n",
    "    \"\"\"\n",
    "    Rotate the global phase so that the first amplitude with |amp|>threshold\n",
    "    becomes real and positive.\n",
    "    \"\"\"\n",
    "    v = vec.copy()\n",
    "    # find first significant index\n",
    "    for amp in v:\n",
    "        if abs(amp) > threshold:\n",
    "            phi = np.angle(amp)\n",
    "            v *= np.exp(-1j * phi)\n",
    "            if v[np.argmax(np.abs(v))].real < 0:\n",
    "                v *= -1\n",
    "            break\n",
    "    return v\n",
    "\n",
    "# Sort eigenvalues with their states\n",
    "pairs = sorted(zip(eigenvals, states), key=lambda x: x[0])\n",
    "\n",
    "# Print each eigenvalue and its statevector on one line\n",
    "threshold = 1e-3\n",
    "for ev, st in pairs:\n",
    "    vec = fix_global_phase(st.data)\n",
    "    terms = [\n",
    "        f\"({amp:.5f})|{format(idx, '02b')}⟩\"\n",
    "        for idx, amp in enumerate(vec)\n",
    "        if abs(amp) > threshold\n",
    "    ]\n",
    "    sv = \" + \".join(terms)\n",
    "    print(f\"λ = {ev:.6f} → {sv}\")\n"
   ]
  },
  {
   "cell_type": "markdown",
   "id": "e6cdd8b9",
   "metadata": {},
   "source": [
    "### Test Case 2 — 3-Qubit Mixed-Interaction Hamiltonian using the TwoLocal ansatz\n",
    "\n",
    "**Hamiltonian**  \n",
    "\\begin{equation*}\n",
    "H = X\\otimes X\\otimes Z \\;+\\; Y\\otimes Y\\otimes Z \\;+\\; Z\\otimes Z\\otimes Z\n",
    "\\end{equation*}\n",
    "\n",
    "**Spectrum (degenerate)**\n",
    "-3, -1, +1, +3\n",
    "\n",
    "\n",
    "**Eigenstates (only the first 4)**\n",
    "\\begin{align*}\n",
    "\\lambda_0 &= -3, & \\ket{\\psi_0} &= \\tfrac{1}{\\sqrt2}\\bigl(\\ket{010} - \\ket{100}\\bigr),\\\\\n",
    "\\lambda_1 &= -1, & \\ket{\\psi_1} &= \\ket{001},\\\\\n",
    "\\lambda_2 &= -1, & \\ket{\\psi_2} &= \\tfrac{1}{\\sqrt2}\\bigl(\\ket{011} + \\ket{101}\\bigr),\\\\\n",
    "\\lambda_3 &= -1, & \\ket{\\psi_3} &= \\ket{111}.\n",
    "\\end{align*}\n",
    "\n"
   ]
  },
  {
   "cell_type": "code",
   "execution_count": 6,
   "id": "03306843",
   "metadata": {},
   "outputs": [
    {
     "name": "stdout",
     "output_type": "stream",
     "text": [
      "λ = -3.000000 → (-0.70708-0.00000j)|010⟩ + (0.70713-0.00001j)|100⟩\n",
      "λ = -1.000000 → (-0.38625+0.00000j)|001⟩ + (-0.04691-0.50849j)|011⟩ + (-0.04675-0.50826j)|101⟩ + (0.53268+0.21399j)|111⟩\n",
      "λ = -1.000000 → (0.52187-0.00000j)|001⟩ + (-0.15222-0.45490j)|011⟩ + (-0.15187-0.45475j)|101⟩ + (-0.51738+0.00234j)|111⟩\n",
      "λ = -0.992706 → (0.00971-0.00000j)|000⟩ + (0.72662+0.21046j)|001⟩ + (-0.01379-0.00485j)|010⟩ + (0.06780+0.07043j)|011⟩ + (-0.00928-0.00334j)|100⟩ + (0.05984+0.09074j)|101⟩ + (-0.00938-0.00683j)|110⟩ + (0.58225+0.25847j)|111⟩\n",
      "λ = 1.000502 → (0.30017+0.00000j)|000⟩ + (0.00967+0.00130j)|001⟩ + (0.59519+0.07778j)|010⟩ + (0.00612+0.00131j)|011⟩ + (0.59355+0.07853j)|100⟩ + (0.00088+0.00889j)|101⟩ + (0.13790+0.41449j)|110⟩ + (0.00971+0.00138j)|111⟩\n"
     ]
    }
   ],
   "source": [
    "# 1. TwoLocal ansatz\n",
    "ansatz2 = TwoLocal(num_qubits=3,\n",
    "                   rotation_blocks=[\"rz\",\"ry\"],\n",
    "                   entanglement_blocks=\"cx\",\n",
    "                   entanglement=\"linear\",\n",
    "                   reps=1)\n",
    "\n",
    "# 2. Hamiltonian\n",
    "obs2 = SparsePauliOp.from_list([\n",
    "    (\"XXZ\", 1.0),\n",
    "    (\"YYZ\", 1.0),\n",
    "    (\"ZZZ\", 1.0)\n",
    "])\n",
    "\n",
    "\n",
    "# Generate exactly the same kind of x0 you used in VQE:\n",
    "x0_2 = np.random.uniform(0, 2*np.pi, size=len(ansatz2.parameters))\n",
    "\n",
    "# Build a list of guesses: reuse x0_2 for the first deflation,\n",
    "# then maybe randomize for the rest\n",
    "x0_list = [x0_2] + [\n",
    "    np.random.uniform(0, 2*np.pi, size=len(ansatz2.parameters))\n",
    "    for _ in range(3)\n",
    "]\n",
    "\n",
    "beta_vals = [5, 10, 20, 40,80]\n",
    "eigenvals2, states2 = run_vqd(\n",
    "    ansatz2, obs2, k=5, estimator=estimator,\n",
    "    beta_values=beta_vals, x0_list=x0_list\n",
    ")\n",
    "\n",
    "# Sort eigenvalues with their states\n",
    "pairs = sorted(zip(eigenvals2, states2), key=lambda x: x[0])\n",
    "\n",
    "# Print each eigenvalue and its statevector on one line\n",
    "threshold = 1e-3\n",
    "for ev, st in pairs:\n",
    "    vec = fix_global_phase(st.data, threshold)\n",
    "    terms = [\n",
    "        f\"({amp:.5f})|{format(idx, '03b')}⟩\"\n",
    "        for idx, amp in enumerate(vec)\n",
    "        if abs(amp) > threshold\n",
    "    ]\n",
    "    sv = \" + \".join(terms)\n",
    "    print(f\"λ = {ev:.6f} → {sv}\")\n"
   ]
  },
  {
   "cell_type": "markdown",
   "id": "79331725",
   "metadata": {},
   "source": [
    "In the presence of degeneracy (here, three eigenvalues equal to −1), VQD will return some basis of that degenerate subspace—but not necessarily the exact eigenvectors define before. To verify that our three VQD-computed “excited” states truly span the correct λ = −1 subspace, we use the **projector test**:\n",
    "\n",
    "1. **Exact projector**  \n",
    "   \\begin{equation*}\n",
    "     P_{\\rm exact}\n",
    "     = \\sum_{j:\\,\\lambda_j=-1} \\ket{\\psi_j}\\!\\bra{\\psi_j}\n",
    "     = \\Psi\\,\\Psi^\\dagger\n",
    "   \\end{equation*}\n",
    "   built from the three known eigenvectors at λ = −1.\n",
    "\n",
    "2. **VQD projector**  \n",
    "   \\begin{equation*}\n",
    "     P_{\\rm VQD}\n",
    "     = \\sum_{j=1}^3 \\ket{\\phi_j}\\!\\bra{\\phi_j}\n",
    "     = \\Phi\\,\\Phi^\\dagger\n",
    "   \\end{equation*}\n",
    "   built from the three VQD-computed states.\n",
    "\n",
    "3. **Frobenius-norm check**  \n",
    "   \\begin{equation*}\n",
    "     \\delta = \\|P_{\\rm exact} - P_{\\rm VQD}\\|_F.\n",
    "   \\end{equation*}\n",
    "   If $\\delta \\approx 0$ (up to numerical noise), the two projectors—and therefore the two 3-dimensional subspaces—are identical.  \n",
    "\n",
    "This test is **basis-independent** and gives a single answer about whether VQD captured the correct subspace.  \n"
   ]
  },
  {
   "cell_type": "code",
   "execution_count": 7,
   "id": "e7259cd4",
   "metadata": {},
   "outputs": [
    {
     "name": "stdout",
     "output_type": "stream",
     "text": [
      "Projector difference ‖P_exact – P_vqd‖ₚ = 0.048467\n"
     ]
    }
   ],
   "source": [
    "# 1) Exact λ = −1 subspace (3 vectors in 8-dim Hilbert space)\n",
    "#    Basis: 000=0,001=1,010=2,011=3,100=4,101=5,110=6,111=7\n",
    "psi = np.zeros((8, 3), complex)\n",
    "psi[1,0] = 1.0                                  # |001⟩\n",
    "psi[3,1] = 1/np.sqrt(2); psi[5,1] = 1/np.sqrt(2) # (|011⟩+|101⟩)/√2\n",
    "psi[7,2] = 1.0                                  # |111⟩\n",
    "\n",
    "# 2) Extract your VQD-computed states at λ≈−1\n",
    "phi = np.column_stack([states2[i].data for i in [1, 2, 3]])  # shape (8,3)\n",
    "#phi = np.column_stack([fix_global_phase(col) for col in phi.T])\n",
    "\n",
    "# 3) Build projectors\n",
    "P_exact = psi @ psi.conj().T\n",
    "P_vqd   = phi @ phi.conj().T\n",
    "\n",
    "# 4) Frobenius-norm of their difference\n",
    "delta = np.linalg.norm(P_exact - P_vqd, ord='fro')\n",
    "print(f\"Projector difference ‖P_exact – P_vqd‖ₚ = {delta:.6f}\")\n"
   ]
  },
  {
   "cell_type": "markdown",
   "id": "c490c329",
   "metadata": {},
   "source": [
    "### Test case 3 - Random 3-Qubit Hamiltonian\n",
    "\n",
    "1. **Generate** a random 3-qubit Hermitian Hamiltonian $H$.  \n",
    "2. **Diagonally** solve it exactly (ground + first three excited states) using SciPy.  \n",
    "3. **Variationally** approximate the same four eigenpairs with VQD.  \n",
    "4. **Compare** the classical and variational results side by side.\n"
   ]
  },
  {
   "cell_type": "code",
   "execution_count": 8,
   "id": "0d6048fc",
   "metadata": {},
   "outputs": [],
   "source": [
    "def random_hermitian_matrix(n):\n",
    "    dim = 2**n\n",
    "    A = 2*(np.random.rand(dim, dim) + 1j*np.random.rand(dim, dim))\n",
    "    H = (A + A.conj().T) / 2  # Make it Hermitian\n",
    "    return H\n",
    "\n",
    "n=3\n",
    "H_matrix = random_hermitian_matrix(n)"
   ]
  },
  {
   "cell_type": "markdown",
   "id": "eebe81e0",
   "metadata": {},
   "source": [
    "We use `scipy.linalg.eigh` to obtain all eigenvalues/vectors, then display the lowest four."
   ]
  },
  {
   "cell_type": "code",
   "execution_count": 9,
   "id": "1e5bb436",
   "metadata": {},
   "outputs": [
    {
     "name": "stdout",
     "output_type": "stream",
     "text": [
      "λ = -2.182468 → (0.33097+0.00000j)|000⟩ + (-0.08077+0.27563j)|001⟩ + (-0.35390+0.43137j)|010⟩ + (0.11342-0.25797j)|011⟩ + (-0.12076+0.00492j)|100⟩ + (0.10701-0.55262j)|101⟩ + (0.14955+0.12691j)|110⟩ + (-0.21077-0.05373j)|111⟩\n",
      "λ = -1.178976 → (-0.07904+0.00000j)|000⟩ + (-0.27534-0.22125j)|001⟩ + (-0.08499-0.05336j)|010⟩ + (0.46780-0.37390j)|011⟩ + (0.21217+0.56351j)|100⟩ + (-0.17193-0.01077j)|101⟩ + (0.00843-0.07380j)|110⟩ + (0.15799+0.27852j)|111⟩\n",
      "λ = -0.550601 → (-0.30902+0.00000j)|000⟩ + (-0.09001+0.18983j)|001⟩ + (0.03426-0.36230j)|010⟩ + (0.06081+0.20845j)|011⟩ + (0.44200+0.01138j)|100⟩ + (-0.17811-0.29764j)|101⟩ + (0.42327+0.09216j)|110⟩ + (-0.39174-0.15451j)|111⟩\n",
      "λ = 0.018098 → (-0.39864+0.00000j)|000⟩ + (0.61895+0.08380j)|001⟩ + (-0.28820-0.01234j)|010⟩ + (0.14227-0.26321j)|011⟩ + (-0.07756+0.11558j)|100⟩ + (-0.16155+0.05516j)|101⟩ + (-0.14377+0.27448j)|110⟩ + (0.07856-0.35713j)|111⟩\n"
     ]
    }
   ],
   "source": [
    "from scipy.linalg import eigh\n",
    "\n",
    "# Diagonalize\n",
    "eigenvals, eigenvecs = eigh(H_matrix)\n",
    "\n",
    "# Take the first four eigenpairs\n",
    "first4_vals = eigenvals[:4]\n",
    "first4_vecs = eigenvecs[:, :4]  \n",
    "\n",
    "# Print each eigenvalue and its statevector\n",
    "threshold = 1e-3\n",
    "for val, vec in zip(first4_vals, first4_vecs.T):\n",
    "    vec_fixed = fix_global_phase(vec, threshold)\n",
    "    terms = [\n",
    "        f\"({amp:.5f})|{format(idx, f'0{int(np.log2(len(vec_fixed)))}b')}⟩\"\n",
    "        for idx, amp in enumerate(vec_fixed)\n",
    "        if abs(amp) > threshold\n",
    "    ]\n",
    "    print(f\"λ = {val:.6f} → \" + \" + \".join(terms))\n"
   ]
  },
  {
   "cell_type": "markdown",
   "id": "6330ea8d",
   "metadata": {},
   "source": [
    "Variational Quantum Deflation (VQD) Approximation :\n"
   ]
  },
  {
   "cell_type": "code",
   "execution_count": 10,
   "id": "c2fe1bf3",
   "metadata": {},
   "outputs": [
    {
     "name": "stdout",
     "output_type": "stream",
     "text": [
      "λ = -2.160163 → (0.33284-0.00000j)|000⟩ + (-0.05474+0.24926j)|001⟩ + (-0.34265+0.41266j)|010⟩ + (0.18122-0.24775j)|011⟩ + (-0.18030+0.04919j)|100⟩ + (0.12531-0.55679j)|101⟩ + (0.10790+0.14115j)|110⟩ + (-0.22188-0.02706j)|111⟩\n",
      "λ = -1.146385 → (0.11511+0.00000j)|000⟩ + (0.04348+0.31605j)|001⟩ + (0.09118+0.17186j)|010⟩ + (-0.61601+0.12103j)|011⟩ + (0.13062-0.55088j)|100⟩ + (0.13294-0.00634j)|101⟩ + (0.08525+0.03287j)|110⟩ + (-0.10898-0.30748j)|111⟩\n",
      "λ = -0.563608 → (0.28631-0.00000j)|000⟩ + (0.16374-0.15107j)|001⟩ + (-0.00925+0.35281j)|010⟩ + (-0.13105-0.17743j)|011⟩ + (-0.44595-0.09515j)|100⟩ + (0.16438+0.32852j)|101⟩ + (-0.43103-0.09663j)|110⟩ + (0.37820+0.11894j)|111⟩\n",
      "λ = 0.208027 → (0.52332+0.00000j)|000⟩ + (-0.61096-0.09010j)|001⟩ + (0.12312-0.07866j)|010⟩ + (-0.17684+0.16934j)|011⟩ + (-0.01224+0.10109j)|100⟩ + (0.06279-0.07037j)|101⟩ + (0.11826-0.34385j)|110⟩ + (-0.06030+0.32916j)|111⟩\n"
     ]
    }
   ],
   "source": [
    "# 1. Build the 4-qubit TwoLocal ansatz\n",
    "ansatz3 = TwoLocal(\n",
    "    num_qubits=n,\n",
    "    rotation_blocks=[\"rz\", \"ry\"],\n",
    "    entanglement_blocks=\"cx\",\n",
    "    entanglement=\"linear\",\n",
    "    reps=2\n",
    ")\n",
    "\n",
    "# 2. Hamiltonian from random H_matrix\n",
    "obs3 = SparsePauliOp.from_operator(Operator(H_matrix))\n",
    "\n",
    "# 3. Run VQD for the first four eigenvalues (k=4)\n",
    "beta_vals = [5, 10, 20, 40]\n",
    "eigenvals3, states3 = run_vqd(\n",
    "    ansatz3,\n",
    "    obs3,\n",
    "    k=4,\n",
    "    estimator=estimator,\n",
    "    beta_values=beta_vals,\n",
    "    method=\"COBYLA\"\n",
    ")\n",
    "\n",
    "# 4. Sort eigenvalues and corresponding states\n",
    "pairs3 = sorted(zip(eigenvals3, states3), key=lambda x: x[0])\n",
    "\n",
    "# 5. Define phase-fixing helper\n",
    "def fix_global_phase(vec: np.ndarray, threshold: float = 1e-3) -> np.ndarray:\n",
    "    v = vec.copy()\n",
    "    for amp in v:\n",
    "        if abs(amp) > threshold:\n",
    "            phi = np.angle(amp)\n",
    "            v *= np.exp(-1j * phi)\n",
    "            if v[np.where(abs(v)>threshold)[0][0]].real < 0:\n",
    "                v *= -1\n",
    "            break\n",
    "    return v\n",
    "\n",
    "# 6. Print each eigenvalue and its significant components\n",
    "threshold = 1e-3\n",
    "for ev, st in pairs3:\n",
    "    vec = fix_global_phase(st.data, threshold)\n",
    "    terms = [\n",
    "        f\"({amp:.5f})|{format(idx, f'0{int(np.log2(len(vec_fixed)))}b')}⟩\"\n",
    "        for idx, amp in enumerate(vec)\n",
    "        if abs(amp) > threshold\n",
    "    ]\n",
    "    print(f\"λ = {ev:.6f} →\", \" + \".join(terms))"
   ]
  },
  {
   "cell_type": "markdown",
   "id": "06f680ca",
   "metadata": {},
   "source": [
    "Finally, we print the first four eigenpairs side-by-side, with the 2-norm \n",
    "between each exact and variational state to quantify the error."
   ]
  },
  {
   "cell_type": "code",
   "execution_count": 11,
   "id": "0de553df",
   "metadata": {},
   "outputs": [
    {
     "name": "stdout",
     "output_type": "stream",
     "text": [
      "Comparison of first 4 eigenpairs (Classical vs VQD):\n",
      "\n",
      "Eigenpair 0:\n",
      "  Classical λ = -2.182468\n",
      "  VQD       λ = -2.160163\n",
      "  ‖φ_cl – φ_vqd‖₂ = 0.123226\n",
      "\n",
      "Eigenpair 1:\n",
      "  Classical λ = -1.178976\n",
      "  VQD       λ = -1.146385\n",
      "  ‖φ_cl – φ_vqd‖₂ = 0.545162\n",
      "\n",
      "Eigenpair 2:\n",
      "  Classical λ = -0.550601\n",
      "  VQD       λ = -0.563608\n",
      "  ‖φ_cl – φ_vqd‖₂ = 0.154170\n",
      "\n",
      "Eigenpair 3:\n",
      "  Classical λ = 0.018098\n",
      "  VQD       λ = 0.208027\n",
      "  ‖φ_cl – φ_vqd‖₂ = 0.364364\n",
      "\n"
     ]
    }
   ],
   "source": [
    "print(\"Comparison of first 4 eigenpairs (Classical vs VQD):\\n\")\n",
    "for i in range(4):\n",
    "    # Classical\n",
    "    cl_val = first4_vals[i]\n",
    "    cl_vec = fix_global_phase(first4_vecs[:, i])\n",
    "    # VQD (sorted results in pairs3)\n",
    "    vq_val, vq_state = pairs3[i]\n",
    "    vq_vec = fix_global_phase(vq_state.data)\n",
    "    \n",
    "    # Norm difference\n",
    "    diff = np.linalg.norm(cl_vec - vq_vec)\n",
    "    \n",
    "    print(f\"Eigenpair {i}:\")\n",
    "    print(f\"  Classical λ = {cl_val:.6f}\")\n",
    "    print(f\"  VQD       λ = {vq_val:.6f}\")\n",
    "    print(f\"  ‖φ_cl – φ_vqd‖₂ = {diff:.6f}\\n\")"
   ]
  }
 ],
 "metadata": {
  "kernelspec": {
   "display_name": "qiskit",
   "language": "python",
   "name": "python3"
  },
  "language_info": {
   "codemirror_mode": {
    "name": "ipython",
    "version": 3
   },
   "file_extension": ".py",
   "mimetype": "text/x-python",
   "name": "python",
   "nbconvert_exporter": "python",
   "pygments_lexer": "ipython3",
   "version": "3.10.16"
  }
 },
 "nbformat": 4,
 "nbformat_minor": 5
}
